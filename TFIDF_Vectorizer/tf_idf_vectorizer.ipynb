{
 "cells": [
  {
   "cell_type": "code",
   "execution_count": 1,
   "id": "1e070ddc",
   "metadata": {},
   "outputs": [],
   "source": [
    "from collections import Counter\n",
    "from tqdm import tqdm\n",
    "from scipy.sparse import csr_matrix\n",
    "import math\n",
    "import operator\n",
    "from sklearn.preprocessing import normalize\n",
    "import numpy"
   ]
  },
  {
   "cell_type": "markdown",
   "id": "0f22f71a",
   "metadata": {},
   "source": [
    "# Task - 1:"
   ]
  },
  {
   "cell_type": "markdown",
   "id": "0f1d9b11",
   "metadata": {},
   "source": [
    "## Step - 1: Fit Method"
   ]
  },
  {
   "cell_type": "code",
   "execution_count": 2,
   "id": "bfc16cf8",
   "metadata": {},
   "outputs": [],
   "source": [
    "\n",
    "def fit(dataset):\n",
    "\n",
    "    unique_words = set()\n",
    "\n",
    "    for row in corpus:\n",
    "        strings = row.split()\n",
    "    \n",
    "        for word in strings:\n",
    "            unique_words.add(word)\n",
    "\n",
    "    sorted_list_words = sorted(list(unique_words))\n",
    "\n",
    "    vocabulary = {value:index for index, value in enumerate(sorted_list_words)}\n",
    "    \n",
    "    return vocabulary, sorted_list_words\n"
   ]
  },
  {
   "cell_type": "code",
   "execution_count": 3,
   "id": "dd553cb2",
   "metadata": {},
   "outputs": [],
   "source": [
    "corpus = [\n",
    "     'this is the first document',\n",
    "     'this document is the second document',\n",
    "     'and this is the third one',\n",
    "     'is this the first document',\n",
    "]"
   ]
  },
  {
   "cell_type": "code",
   "execution_count": 4,
   "id": "9426d946",
   "metadata": {},
   "outputs": [
    {
     "name": "stdout",
     "output_type": "stream",
     "text": [
      "{'and': 0, 'document': 1, 'first': 2, 'is': 3, 'one': 4, 'second': 5, 'the': 6, 'third': 7, 'this': 8}\n"
     ]
    }
   ],
   "source": [
    "vocabulary, sorted_list_words = fit(corpus)\n",
    "print(vocabulary)"
   ]
  },
  {
   "cell_type": "markdown",
   "id": "80bdeb97",
   "metadata": {},
   "source": [
    "## Step - 2: Calculating IDF values "
   ]
  },
  {
   "cell_type": "code",
   "execution_count": 5,
   "id": "4fa53f9c",
   "metadata": {},
   "outputs": [
    {
     "name": "stdout",
     "output_type": "stream",
     "text": [
      "[1.916290731874155, 1.2231435513142097, 1.5108256237659907, 1.0, 1.916290731874155, 1.916290731874155, 1.0, 1.916290731874155, 1.0]\n"
     ]
    }
   ],
   "source": [
    "\n",
    "N = len(corpus)\n",
    "idf_values = []\n",
    "\n",
    "for key, value in vocabulary.items():\n",
    "    count = 0\n",
    "    for row in corpus:\n",
    "        if key in row:\n",
    "            count = count + 1\n",
    "    idf = 1 + math.log((1+N)/(1+count))\n",
    "    idf_values.append(idf)\n",
    "\n",
    "\n",
    "print(idf_values)              "
   ]
  },
  {
   "cell_type": "code",
   "execution_count": 6,
   "id": "88b64483",
   "metadata": {},
   "outputs": [],
   "source": [
    "word_idf_values = {key:value for key, value in zip(sorted_list_words,idf_values)}"
   ]
  },
  {
   "cell_type": "code",
   "execution_count": 7,
   "id": "80198492",
   "metadata": {},
   "outputs": [
    {
     "data": {
      "text/plain": [
       "{'and': 1.916290731874155,\n",
       " 'document': 1.2231435513142097,\n",
       " 'first': 1.5108256237659907,\n",
       " 'is': 1.0,\n",
       " 'one': 1.916290731874155,\n",
       " 'second': 1.916290731874155,\n",
       " 'the': 1.0,\n",
       " 'third': 1.916290731874155,\n",
       " 'this': 1.0}"
      ]
     },
     "execution_count": 7,
     "metadata": {},
     "output_type": "execute_result"
    }
   ],
   "source": [
    "word_idf_values"
   ]
  },
  {
   "cell_type": "markdown",
   "id": "6b3bd2ee",
   "metadata": {},
   "source": [
    "## Step - 3: Transform Method"
   ]
  },
  {
   "cell_type": "code",
   "execution_count": 8,
   "id": "37c017a1",
   "metadata": {
    "scrolled": false
   },
   "outputs": [],
   "source": [
    "\n",
    "def transform(dataset, vocabulary):\n",
    "\n",
    "    columns = []\n",
    "    rows = []\n",
    "    values = []\n",
    "\n",
    "    for index, row in enumerate(corpus):\n",
    "    \n",
    "        list_of_words_in_row = row.split()\n",
    "        number_of_words_in_row = len(list_of_words_in_row)\n",
    "        \n",
    "        word_freq = dict(Counter(row.split()))\n",
    "        \n",
    "        for word, idf_value in word_idf_values.items():\n",
    "            for word1, dimension in vocabulary.items():\n",
    "                for word2, frequency in word_freq.items():\n",
    "                    if word1 == word2 and word1 == word:\n",
    "                        tf_idf = (frequency/number_of_words_in_row)*idf_value\n",
    "                        columns.append(dimension) \n",
    "                        rows.append(index)\n",
    "                        values.append(tf_idf) \n",
    "                    else:\n",
    "                        continue\n",
    "                    \n",
    "  \n",
    "    sparse_matrix = csr_matrix((values, (rows,columns)), shape=(len(corpus),len(vocabulary)))\n",
    "\n",
    "    output = normalize(sparse_matrix, norm='l2', axis=1, copy=True, return_norm=False)\n",
    "    \n",
    "    return output\n",
    "    \n"
   ]
  },
  {
   "cell_type": "code",
   "execution_count": 9,
   "id": "279326b2",
   "metadata": {},
   "outputs": [],
   "source": [
    "final_output = transform(corpus, vocabulary)"
   ]
  },
  {
   "cell_type": "code",
   "execution_count": 10,
   "id": "76735eec",
   "metadata": {},
   "outputs": [
    {
     "data": {
      "text/plain": [
       "<1x9 sparse matrix of type '<class 'numpy.float64'>'\n",
       "\twith 5 stored elements in Compressed Sparse Row format>"
      ]
     },
     "execution_count": 10,
     "metadata": {},
     "output_type": "execute_result"
    }
   ],
   "source": [
    "final_output[0]"
   ]
  },
  {
   "cell_type": "code",
   "execution_count": 11,
   "id": "7de28a67",
   "metadata": {},
   "outputs": [
    {
     "name": "stdout",
     "output_type": "stream",
     "text": [
      "  (0, 1)\t0.4697913855799205\n",
      "  (0, 2)\t0.580285823684436\n",
      "  (0, 3)\t0.3840852409148149\n",
      "  (0, 6)\t0.3840852409148149\n",
      "  (0, 8)\t0.3840852409148149\n"
     ]
    }
   ],
   "source": [
    "print(final_output[0])"
   ]
  },
  {
   "cell_type": "code",
   "execution_count": 12,
   "id": "5d95e0cd",
   "metadata": {},
   "outputs": [
    {
     "name": "stdout",
     "output_type": "stream",
     "text": [
      "[[0.         0.46979139 0.58028582 0.38408524 0.         0.\n",
      "  0.38408524 0.         0.38408524]]\n"
     ]
    }
   ],
   "source": [
    "print(final_output[0].toarray())"
   ]
  },
  {
   "cell_type": "markdown",
   "id": "d6f063e2",
   "metadata": {},
   "source": [
    "###############################################################################"
   ]
  },
  {
   "cell_type": "markdown",
   "id": "28d428c2",
   "metadata": {},
   "source": [
    "# Task - 2:"
   ]
  },
  {
   "cell_type": "code",
   "execution_count": 13,
   "id": "2c320151",
   "metadata": {},
   "outputs": [
    {
     "name": "stdout",
     "output_type": "stream",
     "text": [
      "Number of documents in corpus =  746\n"
     ]
    }
   ],
   "source": [
    "\n",
    "import pickle\n",
    "with open('cleaned_strings', 'rb') as f:\n",
    "    corpus = pickle.load(f)\n",
    "    \n",
    "# printing the length of the corpus loaded\n",
    "print(\"Number of documents in corpus = \", len(corpus))"
   ]
  },
  {
   "cell_type": "markdown",
   "id": "8e502c84",
   "metadata": {},
   "source": [
    "## Step - 1: Fit Method"
   ]
  },
  {
   "cell_type": "code",
   "execution_count": 14,
   "id": "23ff28e5",
   "metadata": {},
   "outputs": [],
   "source": [
    "import operator\n",
    "\n",
    "def fit(dataset):\n",
    "    unique_words = set()\n",
    "\n",
    "    for row in corpus:\n",
    "        strings = row.split()\n",
    "    \n",
    "        for word in strings:\n",
    "            unique_words.add(word)\n",
    "\n",
    "    sorted_list_words = sorted(list(unique_words))\n",
    "\n",
    "    vocabulary = {value:index for index, value in enumerate(sorted_list_words)}\n",
    "    \n",
    "    N = len(corpus)\n",
    "    \n",
    "    idf_values = []\n",
    "\n",
    "    for key, value in vocabulary.items():\n",
    "        count = 0\n",
    "        for row in corpus:\n",
    "            if key in row:\n",
    "                count = count + 1\n",
    "        idf = 1 + math.log((1+N)/(1+count))\n",
    "        idf_values.append(idf)\n",
    "        \n",
    "    word_mapped_idf_values = {key:value for key, value in zip(sorted_list_words,idf_values)}\n",
    "        \n",
    "    sorted_d = dict(sorted(word_mapped_idf_values.items(), key=operator.itemgetter(1),reverse=True))\n",
    "\n",
    "    top_50_word_idf_values = dict(list(sorted_d.items())[0:50])\n",
    "\n",
    "    new_vocabulary = []\n",
    "\n",
    "    for word1 in list(top_50_word_idf_values.keys()):\n",
    "        for word2 in list(sorted_d.keys()):\n",
    "            if word1 == word2:\n",
    "                new_vocabulary.append(word2)\n",
    "            \n",
    "    new_vocab_dict = {word:index for index, word in enumerate(new_vocabulary)}\n",
    "    \n",
    "    return new_vocab_dict, new_vocabulary, top_50_word_idf_values"
   ]
  },
  {
   "cell_type": "code",
   "execution_count": 15,
   "id": "52cf4b56",
   "metadata": {},
   "outputs": [],
   "source": [
    "new_vocab, new_sorted_list_words, top_50_word_idf_values = fit(corpus)"
   ]
  },
  {
   "cell_type": "code",
   "execution_count": 16,
   "id": "4b797ea2",
   "metadata": {},
   "outputs": [
    {
     "data": {
      "text/plain": [
       "{'aailiyah': 0,\n",
       " 'abandoned': 1,\n",
       " 'abroad': 2,\n",
       " 'abstruse': 3,\n",
       " 'academy': 4,\n",
       " 'accents': 5,\n",
       " 'accessible': 6,\n",
       " 'acclaimed': 7,\n",
       " 'accolades': 8,\n",
       " 'accurately': 9,\n",
       " 'achille': 10,\n",
       " 'ackerman': 11,\n",
       " 'adams': 12,\n",
       " 'added': 13,\n",
       " 'admins': 14,\n",
       " 'admiration': 15,\n",
       " 'admitted': 16,\n",
       " 'adrift': 17,\n",
       " 'adventure': 18,\n",
       " 'aesthetically': 19,\n",
       " 'affected': 20,\n",
       " 'affleck': 21,\n",
       " 'afternoon': 22,\n",
       " 'agreed': 23,\n",
       " 'aimless': 24,\n",
       " 'aired': 25,\n",
       " 'akasha': 26,\n",
       " 'alert': 27,\n",
       " 'alike': 28,\n",
       " 'allison': 29,\n",
       " 'allowing': 30,\n",
       " 'alongside': 31,\n",
       " 'amateurish': 32,\n",
       " 'amazed': 33,\n",
       " 'amazingly': 34,\n",
       " 'amusing': 35,\n",
       " 'amust': 36,\n",
       " 'anatomist': 37,\n",
       " 'angela': 38,\n",
       " 'angelina': 39,\n",
       " 'angry': 40,\n",
       " 'anguish': 41,\n",
       " 'angus': 42,\n",
       " 'animals': 43,\n",
       " 'animated': 44,\n",
       " 'anita': 45,\n",
       " 'anniversary': 46,\n",
       " 'anthony': 47,\n",
       " 'antithesis': 48,\n",
       " 'anyway': 49}"
      ]
     },
     "execution_count": 16,
     "metadata": {},
     "output_type": "execute_result"
    }
   ],
   "source": [
    "new_vocab"
   ]
  },
  {
   "cell_type": "code",
   "execution_count": 17,
   "id": "e43b656d",
   "metadata": {},
   "outputs": [
    {
     "data": {
      "text/plain": [
       "{'aailiyah': 6.922918004572872,\n",
       " 'abandoned': 6.922918004572872,\n",
       " 'abroad': 6.922918004572872,\n",
       " 'abstruse': 6.922918004572872,\n",
       " 'academy': 6.922918004572872,\n",
       " 'accents': 6.922918004572872,\n",
       " 'accessible': 6.922918004572872,\n",
       " 'acclaimed': 6.922918004572872,\n",
       " 'accolades': 6.922918004572872,\n",
       " 'accurately': 6.922918004572872,\n",
       " 'achille': 6.922918004572872,\n",
       " 'ackerman': 6.922918004572872,\n",
       " 'adams': 6.922918004572872,\n",
       " 'added': 6.922918004572872,\n",
       " 'admins': 6.922918004572872,\n",
       " 'admiration': 6.922918004572872,\n",
       " 'admitted': 6.922918004572872,\n",
       " 'adrift': 6.922918004572872,\n",
       " 'adventure': 6.922918004572872,\n",
       " 'aesthetically': 6.922918004572872,\n",
       " 'affected': 6.922918004572872,\n",
       " 'affleck': 6.922918004572872,\n",
       " 'afternoon': 6.922918004572872,\n",
       " 'agreed': 6.922918004572872,\n",
       " 'aimless': 6.922918004572872,\n",
       " 'aired': 6.922918004572872,\n",
       " 'akasha': 6.922918004572872,\n",
       " 'alert': 6.922918004572872,\n",
       " 'alike': 6.922918004572872,\n",
       " 'allison': 6.922918004572872,\n",
       " 'allowing': 6.922918004572872,\n",
       " 'alongside': 6.922918004572872,\n",
       " 'amateurish': 6.922918004572872,\n",
       " 'amazed': 6.922918004572872,\n",
       " 'amazingly': 6.922918004572872,\n",
       " 'amusing': 6.922918004572872,\n",
       " 'amust': 6.922918004572872,\n",
       " 'anatomist': 6.922918004572872,\n",
       " 'angela': 6.922918004572872,\n",
       " 'angelina': 6.922918004572872,\n",
       " 'angry': 6.922918004572872,\n",
       " 'anguish': 6.922918004572872,\n",
       " 'angus': 6.922918004572872,\n",
       " 'animals': 6.922918004572872,\n",
       " 'animated': 6.922918004572872,\n",
       " 'anita': 6.922918004572872,\n",
       " 'anniversary': 6.922918004572872,\n",
       " 'anthony': 6.922918004572872,\n",
       " 'antithesis': 6.922918004572872,\n",
       " 'anyway': 6.922918004572872}"
      ]
     },
     "execution_count": 17,
     "metadata": {},
     "output_type": "execute_result"
    }
   ],
   "source": [
    "top_50_word_idf_values"
   ]
  },
  {
   "cell_type": "markdown",
   "id": "705230b6",
   "metadata": {},
   "source": [
    "## Step - 2: Transform Method"
   ]
  },
  {
   "cell_type": "code",
   "execution_count": 18,
   "id": "453a0738",
   "metadata": {},
   "outputs": [],
   "source": [
    "\n",
    "def transform(dataset, vocabulary):\n",
    "    \n",
    "    columns = []\n",
    "    rows = []\n",
    "    values = []\n",
    "\n",
    "    for index, row in enumerate(corpus):\n",
    "    \n",
    "        list_of_words_in_row = row.split()\n",
    "        number_of_words_in_row = len(list_of_words_in_row)\n",
    "        \n",
    "        word_freq = dict(Counter(row.split()))\n",
    "  \n",
    "        for word, idf_value in top_50_word_idf_values.items():\n",
    "            for word1, dimension in new_vocab.items():\n",
    "                for word2, frequency in word_freq.items():\n",
    "                    if word1 == word2 and word1 == word:\n",
    "                        tf_idf = (frequency/number_of_words_in_row)*idf_value\n",
    "                        columns.append(dimension)  \n",
    "                        rows.append(index)\n",
    "                        values.append(tf_idf) \n",
    "                    \n",
    "                    else:\n",
    "                        continue                  \n",
    "              \n",
    "    sparse_matrix = csr_matrix((values, (rows,columns)), shape=(len(corpus),len(vocabulary)))\n",
    "    \n",
    "    top_50_output = normalize(sparse_matrix, norm='l2', axis=1, copy=True, return_norm=False)\n",
    "    \n",
    "    return sparse_matrix, top_50_output\n"
   ]
  },
  {
   "cell_type": "code",
   "execution_count": 19,
   "id": "8e03ed8b",
   "metadata": {},
   "outputs": [],
   "source": [
    "sparse_matrix_output, top_50_final_output = transform(corpus, new_vocab)"
   ]
  },
  {
   "cell_type": "code",
   "execution_count": 20,
   "id": "b3db81b4",
   "metadata": {},
   "outputs": [
    {
     "name": "stdout",
     "output_type": "stream",
     "text": [
      "  (0, 24)\t0.865364750571609\n",
      "  (19, 43)\t0.015769744885131828\n",
      "  (68, 21)\t0.38460655580960396\n",
      "  (72, 23)\t1.3845836009145744\n",
      "  (74, 25)\t0.9889882863675531\n",
      "  (89, 47)\t0.7692131116192079\n",
      "  (135, 3)\t0.009918220636923885\n",
      "  (135, 9)\t0.009918220636923885\n",
      "  (135, 15)\t0.009918220636923885\n",
      "  (135, 17)\t0.009918220636923885\n",
      "  (135, 29)\t0.009918220636923885\n",
      "  (135, 32)\t0.009918220636923885\n",
      "  (135, 40)\t0.009918220636923885\n",
      "  (176, 39)\t0.24724707159188827\n",
      "  (192, 18)\t2.307639334857624\n",
      "  (193, 20)\t0.3009964349814292\n",
      "  (216, 2)\t0.4615278669715248\n",
      "  (225, 16)\t0.7692131116192079\n",
      "  (227, 14)\t1.153819667428812\n",
      "  (241, 35)\t1.730729501143218\n",
      "  (270, 1)\t0.22331993563138297\n",
      "  (290, 22)\t0.865364750571609\n",
      "  (341, 34)\t0.9889882863675531\n",
      "  (344, 33)\t0.865364750571609\n",
      "  (348, 8)\t0.5325321541979132\n",
      "  (409, 5)\t2.307639334857624\n",
      "  (430, 31)\t0.865364750571609\n",
      "  (457, 36)\t1.3845836009145744\n",
      "  (461, 4)\t0.49449414318377655\n",
      "  (461, 44)\t0.49449414318377655\n",
      "  (465, 30)\t0.6293561822338974\n",
      "  (475, 28)\t0.38460655580960396\n",
      "  (493, 6)\t1.3845836009145744\n",
      "  (500, 38)\t0.7692131116192079\n",
      "  (544, 41)\t0.3146780911169487\n",
      "  (548, 0)\t0.6293561822338974\n",
      "  (548, 26)\t0.6293561822338974\n",
      "  (608, 12)\t0.3296627621225177\n",
      "  (612, 10)\t0.4615278669715248\n",
      "  (620, 37)\t0.40723047085722774\n",
      "  (620, 42)\t0.40723047085722774\n",
      "  (632, 7)\t0.4326823752858045\n",
      "  (644, 11)\t0.016803199040225415\n",
      "  (644, 45)\t0.016803199040225415\n",
      "  (644, 46)\t0.016803199040225415\n",
      "  (667, 19)\t0.5325321541979132\n",
      "  (691, 27)\t0.576909833714406\n",
      "  (699, 48)\t0.9889882863675531\n",
      "  (722, 13)\t0.7692131116192079\n",
      "  (735, 49)\t0.865364750571609\n"
     ]
    }
   ],
   "source": [
    "print(sparse_matrix_output)"
   ]
  },
  {
   "cell_type": "code",
   "execution_count": 21,
   "id": "54ccfd4c",
   "metadata": {},
   "outputs": [
    {
     "name": "stdout",
     "output_type": "stream",
     "text": [
      "  (0, 24)\t1.0\n",
      "  (19, 43)\t1.0\n",
      "  (68, 21)\t1.0\n",
      "  (72, 23)\t1.0\n",
      "  (74, 25)\t1.0\n",
      "  (89, 47)\t1.0\n",
      "  (135, 3)\t0.37796447300922725\n",
      "  (135, 9)\t0.37796447300922725\n",
      "  (135, 15)\t0.37796447300922725\n",
      "  (135, 17)\t0.37796447300922725\n",
      "  (135, 29)\t0.37796447300922725\n",
      "  (135, 32)\t0.37796447300922725\n",
      "  (135, 40)\t0.37796447300922725\n",
      "  (176, 39)\t1.0\n",
      "  (192, 18)\t1.0\n",
      "  (193, 20)\t1.0\n",
      "  (216, 2)\t1.0\n",
      "  (225, 16)\t1.0\n",
      "  (227, 14)\t1.0\n",
      "  (241, 35)\t1.0\n",
      "  (270, 1)\t1.0\n",
      "  (290, 22)\t1.0\n",
      "  (341, 34)\t1.0\n",
      "  (344, 33)\t1.0\n",
      "  (348, 8)\t1.0\n",
      "  (409, 5)\t1.0\n",
      "  (430, 31)\t1.0\n",
      "  (457, 36)\t1.0\n",
      "  (461, 4)\t0.7071067811865475\n",
      "  (461, 44)\t0.7071067811865475\n",
      "  (465, 30)\t1.0\n",
      "  (475, 28)\t1.0\n",
      "  (493, 6)\t1.0\n",
      "  (500, 38)\t1.0\n",
      "  (544, 41)\t1.0\n",
      "  (548, 0)\t0.7071067811865475\n",
      "  (548, 26)\t0.7071067811865475\n",
      "  (608, 12)\t1.0\n",
      "  (612, 10)\t1.0\n",
      "  (620, 37)\t0.7071067811865476\n",
      "  (620, 42)\t0.7071067811865476\n",
      "  (632, 7)\t1.0\n",
      "  (644, 11)\t0.5773502691896257\n",
      "  (644, 45)\t0.5773502691896257\n",
      "  (644, 46)\t0.5773502691896257\n",
      "  (667, 19)\t1.0\n",
      "  (691, 27)\t1.0\n",
      "  (699, 48)\t1.0\n",
      "  (722, 13)\t1.0\n",
      "  (735, 49)\t1.0\n"
     ]
    }
   ],
   "source": [
    "print(top_50_final_output) #normalised values between 0 and 1"
   ]
  },
  {
   "cell_type": "code",
   "execution_count": 22,
   "id": "facd7908",
   "metadata": {},
   "outputs": [
    {
     "data": {
      "text/plain": [
       "<746x50 sparse matrix of type '<class 'numpy.float64'>'\n",
       "\twith 50 stored elements in Compressed Sparse Row format>"
      ]
     },
     "execution_count": 22,
     "metadata": {},
     "output_type": "execute_result"
    }
   ],
   "source": [
    "top_50_final_output"
   ]
  },
  {
   "cell_type": "code",
   "execution_count": 23,
   "id": "0dfbd32b",
   "metadata": {},
   "outputs": [
    {
     "name": "stdout",
     "output_type": "stream",
     "text": [
      "[[0. 0. 0. 0. 0. 0. 0. 0. 0. 0. 0. 0. 0. 0. 0. 0. 0. 0. 0. 0. 0. 0. 0. 0.\n",
      "  1. 0. 0. 0. 0. 0. 0. 0. 0. 0. 0. 0. 0. 0. 0. 0. 0. 0. 0. 0. 0. 0. 0. 0.\n",
      "  0. 0.]]\n"
     ]
    }
   ],
   "source": [
    "print(top_50_final_output[0].toarray())"
   ]
  },
  {
   "cell_type": "code",
   "execution_count": 24,
   "id": "4eb5681b",
   "metadata": {},
   "outputs": [
    {
     "data": {
      "text/plain": [
       "(1, 50)"
      ]
     },
     "execution_count": 24,
     "metadata": {},
     "output_type": "execute_result"
    }
   ],
   "source": [
    "numpy.shape(top_50_final_output[0]) "
   ]
  },
  {
   "cell_type": "code",
   "execution_count": 25,
   "id": "097067d4",
   "metadata": {},
   "outputs": [
    {
     "name": "stdout",
     "output_type": "stream",
     "text": [
      "[[0.         0.         0.         0.         0.70710678 0.\n",
      "  0.         0.         0.         0.         0.         0.\n",
      "  0.         0.         0.         0.         0.         0.\n",
      "  0.         0.         0.         0.         0.         0.\n",
      "  0.         0.         0.         0.         0.         0.\n",
      "  0.         0.         0.         0.         0.         0.\n",
      "  0.         0.         0.         0.         0.         0.\n",
      "  0.         0.         0.70710678 0.         0.         0.\n",
      "  0.         0.        ]]\n"
     ]
    }
   ],
   "source": [
    "print(top_50_final_output[461].toarray())"
   ]
  },
  {
   "cell_type": "code",
   "execution_count": 26,
   "id": "62cc2be1",
   "metadata": {},
   "outputs": [
    {
     "name": "stdout",
     "output_type": "stream",
     "text": [
      "[[0. 0. 0. 0. 0. 0. 0. 0. 0. 0. 0. 0. 0. 0. 0. 0. 0. 0. 0. 0. 0. 0. 0. 0.\n",
      "  0. 0. 0. 0. 0. 0. 0. 0. 0. 0. 0. 0. 0. 0. 0. 0. 0. 0. 0. 0. 0. 0. 0. 0.\n",
      "  0. 1.]]\n"
     ]
    }
   ],
   "source": [
    "print(top_50_final_output[735].toarray())"
   ]
  },
  {
   "cell_type": "markdown",
   "id": "445a3945",
   "metadata": {},
   "source": [
    "###############################################################################"
   ]
  },
  {
   "cell_type": "code",
   "execution_count": null,
   "id": "657f9f0b",
   "metadata": {},
   "outputs": [],
   "source": []
  }
 ],
 "metadata": {
  "kernelspec": {
   "display_name": "Python 3",
   "language": "python",
   "name": "python3"
  },
  "language_info": {
   "codemirror_mode": {
    "name": "ipython",
    "version": 3
   },
   "file_extension": ".py",
   "mimetype": "text/x-python",
   "name": "python",
   "nbconvert_exporter": "python",
   "pygments_lexer": "ipython3",
   "version": "3.8.8"
  }
 },
 "nbformat": 4,
 "nbformat_minor": 5
}
