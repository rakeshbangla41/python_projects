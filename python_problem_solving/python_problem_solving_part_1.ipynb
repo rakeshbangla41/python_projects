{
 "cells": [
  {
   "cell_type": "code",
   "execution_count": 1,
   "id": "fdcd72ba",
   "metadata": {},
   "outputs": [],
   "source": [
    "# 1. Write a function that inputs a number and prints the multiplication  \n",
    "# table of that number."
   ]
  },
  {
   "cell_type": "code",
   "execution_count": 2,
   "id": "6313c637",
   "metadata": {},
   "outputs": [
    {
     "name": "stdout",
     "output_type": "stream",
     "text": [
      "Enter the number for which you want the multiplication table: 9\n",
      "The multiplication table for the number 9 is: \n",
      "\n",
      "9 x 1 = 9\n",
      "9 x 2 = 18\n",
      "9 x 3 = 27\n",
      "9 x 4 = 36\n",
      "9 x 5 = 45\n",
      "9 x 6 = 54\n",
      "9 x 7 = 63\n",
      "9 x 8 = 72\n",
      "9 x 9 = 81\n",
      "9 x 10 = 90\n"
     ]
    }
   ],
   "source": [
    "def multable():\n",
    "    a = int(input('Enter the number for which you want the multiplication table: '))\n",
    "    print(f'The multiplication table for the number {a} is: \\n')\n",
    "    for b in range(1,11):\n",
    "        product = a * b \n",
    "        print(f'{a} x {b} =', product)\n",
    "\n",
    "multable()"
   ]
  },
  {
   "cell_type": "code",
   "execution_count": 3,
   "id": "84c8d657",
   "metadata": {},
   "outputs": [],
   "source": [
    "############################################################################"
   ]
  },
  {
   "cell_type": "code",
   "execution_count": 4,
   "id": "82a936b3",
   "metadata": {},
   "outputs": [],
   "source": [
    "# 2. Write a program to print twin primes less than 1000. If two consecutive\n",
    "# odd numbers are both prime, then they are known as twin primes."
   ]
  },
  {
   "cell_type": "code",
   "execution_count": 5,
   "id": "a60cfb12",
   "metadata": {},
   "outputs": [
    {
     "name": "stdout",
     "output_type": "stream",
     "text": [
      "Twin primes less than 1000 are: \n",
      "\n",
      "(3, 5)\n",
      "(5, 7)\n",
      "(11, 13)\n",
      "(17, 19)\n",
      "(29, 31)\n",
      "(41, 43)\n",
      "(59, 61)\n",
      "(71, 73)\n",
      "(101, 103)\n",
      "(107, 109)\n",
      "(137, 139)\n",
      "(149, 151)\n",
      "(179, 181)\n",
      "(191, 193)\n",
      "(197, 199)\n",
      "(227, 229)\n",
      "(239, 241)\n",
      "(269, 271)\n",
      "(281, 283)\n",
      "(311, 313)\n",
      "(347, 349)\n",
      "(419, 421)\n",
      "(431, 433)\n",
      "(461, 463)\n",
      "(521, 523)\n",
      "(569, 571)\n",
      "(599, 601)\n",
      "(617, 619)\n",
      "(641, 643)\n",
      "(659, 661)\n",
      "(809, 811)\n",
      "(821, 823)\n",
      "(827, 829)\n",
      "(857, 859)\n",
      "(881, 883)\n"
     ]
    }
   ],
   "source": [
    "number1 = 1\n",
    "number2 = 1000\n",
    "prime_numbers = []\n",
    "\n",
    "for number in range(number1, number2):\n",
    "    if number > 1:\n",
    "        for i in range(2, number):\n",
    "            if number % i == 0:\n",
    "                break\n",
    "        else:\n",
    "            prime_numbers.append(number)\n",
    "\n",
    "\n",
    "odd_primes = []\n",
    "for element in prime_numbers:\n",
    "    if element % 2 != 0:\n",
    "        odd_primes.append(element)\n",
    "\n",
    "\n",
    "twin_primes = []\n",
    "counter = odd_primes[0]\n",
    "for element in odd_primes:\n",
    "    if element - counter == 2:\n",
    "        twin_primes.append(counter)\n",
    "        twin_primes.append(element)\n",
    "    counter = element\n",
    "    element = element + 1\n",
    "\n",
    "    \n",
    "# reference article: https://www.askpython.com/python/list/python-list-of-tuples\n",
    "\n",
    "list_of_twin_primes_tuple = [element for element in zip(*[iter(twin_primes)]*2)]\n",
    "list_of_twin_primes_tuple\n",
    "\n",
    "print('Twin primes less than 1000 are: \\n')\n",
    "for pair in list_of_twin_primes_tuple:\n",
    "     print(pair)"
   ]
  },
  {
   "cell_type": "code",
   "execution_count": 6,
   "id": "642cd7a1",
   "metadata": {},
   "outputs": [],
   "source": [
    "############################################################################"
   ]
  },
  {
   "cell_type": "code",
   "execution_count": 7,
   "id": "eae817b3",
   "metadata": {},
   "outputs": [],
   "source": [
    "# 3. Write a program to find out the prime factors of a number."
   ]
  },
  {
   "cell_type": "code",
   "execution_count": 8,
   "id": "db77abda",
   "metadata": {},
   "outputs": [
    {
     "name": "stdout",
     "output_type": "stream",
     "text": [
      "Enter a number for which you want to know the prime factors: 100\n",
      "Prime factor(s) of 100:  [2, 5]\n"
     ]
    }
   ],
   "source": [
    "number = int(input('Enter a number for which you want to know the prime factors: '))\n",
    "factors = []\n",
    "\n",
    "for factor in range(1, number + 1):\n",
    "    if number % factor == 0:\n",
    "        factors.append(factor)\n",
    "\n",
    "\n",
    "prime_factors = []\n",
    "\n",
    "for element in factors:\n",
    "    if element > 1:\n",
    "        for i in range(2, element):\n",
    "            if element % i == 0:\n",
    "                break\n",
    "        else:\n",
    "            prime_factors.append(element)\n",
    "\n",
    "if len(prime_factors) == 0:\n",
    "    print(f'There are no prime factors for the number {number}')\n",
    "else:   \n",
    "    print(f'Prime factor(s) of {number}: ', prime_factors)\n"
   ]
  },
  {
   "cell_type": "code",
   "execution_count": 9,
   "id": "aa417e97",
   "metadata": {},
   "outputs": [],
   "source": [
    "############################################################################"
   ]
  },
  {
   "cell_type": "code",
   "execution_count": 10,
   "id": "e1dea148",
   "metadata": {},
   "outputs": [],
   "source": [
    "# 4. Write a program to implement these formulae of permutations and \n",
    "# combinations. \n",
    "# Number of permutations of n objects taken r at a time: p(n,r) = n!/(n-r)!\n",
    "# Number of combinations of n objects taken r at a time: \n",
    "# c(n,r) = n! / (r!*(n-r)!)"
   ]
  },
  {
   "cell_type": "code",
   "execution_count": 11,
   "id": "9d08893c",
   "metadata": {},
   "outputs": [
    {
     "name": "stdout",
     "output_type": "stream",
     "text": [
      "Enter the value of n: 5\n",
      "Enter the value of r, which should be less than or equal to n: 3\n",
      "Number of permutations of 5 objects taken 3 at a time: 60.0\n",
      "Number of combinations of 5 objects taken 3 at a time: 10.0\n"
     ]
    }
   ],
   "source": [
    "# first defining the function to find the factorial of a number\n",
    "\n",
    "def factorial(n):\n",
    "    \n",
    "    if n <= 1:\n",
    "        return 1\n",
    "    else:\n",
    "        q = n * factorial(n-1)\n",
    "    \n",
    "    return q\n",
    "    \n",
    "# nPr:\n",
    "\n",
    "n = int(input('Enter the value of n: '))\n",
    "r = int(input('Enter the value of r, which should be less than or equal to n: '))\n",
    "x = n-r\n",
    "\n",
    "a = factorial(n)\n",
    "b = factorial(x)\n",
    "\n",
    "nPr = a / b\n",
    "print(f'Number of permutations of {n} objects taken {r} at a time: {nPr}')\n",
    "\n",
    "\n",
    "# nCr:\n",
    "\n",
    "c = factorial(n)\n",
    "d = factorial(x) * factorial(r)\n",
    "\n",
    "nCr = c / d\n",
    "\n",
    "print(f'Number of combinations of {n} objects taken {r} at a time: {nCr}')\n"
   ]
  },
  {
   "cell_type": "code",
   "execution_count": 12,
   "id": "a214cde3",
   "metadata": {},
   "outputs": [],
   "source": [
    "############################################################################"
   ]
  },
  {
   "cell_type": "code",
   "execution_count": 13,
   "id": "0f15092b",
   "metadata": {},
   "outputs": [],
   "source": [
    "# 5. Write a function that converts a decimal number to binary number."
   ]
  },
  {
   "cell_type": "code",
   "execution_count": 14,
   "id": "8546b4f4",
   "metadata": {},
   "outputs": [
    {
     "name": "stdout",
     "output_type": "stream",
     "text": [
      "The binary conversion of 13 is 1101\n"
     ]
    }
   ],
   "source": [
    "lst = []\n",
    "\n",
    "def Dec_to_Bi(num):\n",
    "    \n",
    "    if num == 0:\n",
    "         return ''\n",
    "    else:\n",
    "        remainder = num % 2\n",
    "        string_of_remainder = ''\n",
    "        lst.append(str(remainder))\n",
    "        num = num // 2\n",
    "        Dec_to_Bi(num)\n",
    "    \n",
    "    lst1 = lst[::-1]\n",
    "    string_of_remainder1 = string_of_remainder.join(lst1)\n",
    "    \n",
    "    q = int(string_of_remainder1)\n",
    "    return q\n",
    "\n",
    "\n",
    "k = 13\n",
    "a = Dec_to_Bi(k)\n",
    "print(f'The binary conversion of {k} is {a}')"
   ]
  },
  {
   "cell_type": "code",
   "execution_count": 15,
   "id": "9447acf9",
   "metadata": {},
   "outputs": [],
   "source": [
    "############################################################################"
   ]
  },
  {
   "cell_type": "code",
   "execution_count": 16,
   "id": "bf9752e0",
   "metadata": {},
   "outputs": [],
   "source": [
    "# 6. Write a function cubesum() that accepts an integer and returns the sum\n",
    "# of the cubes of individual digits of that number. Use this function to\n",
    "# make functions PrintArmstrong() and isArmstrong() to print Armstrong\n",
    "# numbers and to find whether the number is an Armstrong number."
   ]
  },
  {
   "cell_type": "code",
   "execution_count": 17,
   "id": "0c856df5",
   "metadata": {},
   "outputs": [
    {
     "name": "stdout",
     "output_type": "stream",
     "text": [
      "Enter the number: 25\n",
      "The sum of cubes of individual digits of the number 25 is: 133\n"
     ]
    },
    {
     "data": {
      "text/plain": [
       "('25', 133)"
      ]
     },
     "execution_count": 17,
     "metadata": {},
     "output_type": "execute_result"
    }
   ],
   "source": [
    "def cubesum():\n",
    "    \n",
    "    num1 = input('Enter the number: ')\n",
    "    num1_list = []\n",
    "    for character in num1:\n",
    "        character = int(character)\n",
    "        num1_list.append(character)\n",
    "        \n",
    "    cubes = []\n",
    "    for element in num1_list:\n",
    "        element = element ** 3\n",
    "        cubes.append(element)\n",
    "    \n",
    "    \n",
    "    counter = 0\n",
    "    for element in cubes:\n",
    "        counter = counter + element\n",
    "        \n",
    "    print(f'The sum of cubes of individual digits of the number {num1} is:', counter)\n",
    "    \n",
    "    return num1, counter # returning num1, counter\n",
    "\n",
    "cubesum()"
   ]
  },
  {
   "cell_type": "code",
   "execution_count": 18,
   "id": "b4ba9037",
   "metadata": {},
   "outputs": [
    {
     "name": "stdout",
     "output_type": "stream",
     "text": [
      "Enter the number: 25\n",
      "The sum of cubes of individual digits of the number 25 is: 133\n",
      "We are not printing the number value here since it is not an \n",
      "Armstrong number\n"
     ]
    }
   ],
   "source": [
    "def PrintArmstrong():\n",
    "    num1, counter = cubesum()\n",
    "    \n",
    "    if int(num1) == counter:\n",
    "        print(f'We are printing the number {num1} since it is an Armstrong number')\n",
    "    else:\n",
    "        print(f'We are not printing the number value here since it is not an \\nArmstrong number')\n",
    "\n",
    "PrintArmstrong()"
   ]
  },
  {
   "cell_type": "code",
   "execution_count": 19,
   "id": "912fc3e8",
   "metadata": {},
   "outputs": [
    {
     "name": "stdout",
     "output_type": "stream",
     "text": [
      "Enter the number: 25\n",
      "The sum of cubes of individual digits of the number 25 is: 133\n",
      "The number 25 is not an Armstrong number since the sum of cubes of \n",
      "individual digits is not equal to the number itself\n"
     ]
    }
   ],
   "source": [
    "def isArmstrong():\n",
    "    num1, counter = cubesum()\n",
    "    \n",
    "    '''we are passing the returned variables num1, counter from the function\n",
    "    cubesum() inside this function so that we can use them within this \n",
    "    function'''\n",
    "    \n",
    "    if int(num1) == counter:\n",
    "        print(f'The number {num1} is an Armstrong number since the sum of cubes of individual digits is equal to the number itself')\n",
    "    else:\n",
    "        print(f'The number {num1} is not an Armstrong number since the sum of cubes of \\nindividual digits is not equal to the number itself')\n",
    "        \n",
    "    \n",
    "isArmstrong()\n"
   ]
  },
  {
   "cell_type": "code",
   "execution_count": 20,
   "id": "c9571e51",
   "metadata": {},
   "outputs": [],
   "source": [
    "############################################################################"
   ]
  },
  {
   "cell_type": "code",
   "execution_count": 21,
   "id": "87b30726",
   "metadata": {},
   "outputs": [],
   "source": [
    "# 7. Write a function prodDigits() that inputs a number and returns the \n",
    "# product of digits of that number."
   ]
  },
  {
   "cell_type": "code",
   "execution_count": 22,
   "id": "b6c314d5",
   "metadata": {},
   "outputs": [
    {
     "name": "stdout",
     "output_type": "stream",
     "text": [
      "The product of digits of the number 229 is: 36\n"
     ]
    }
   ],
   "source": [
    "def prodDigits(num):\n",
    "\n",
    "    num_str = str(num)\n",
    "    num_list = []\n",
    "    for character in num_str:\n",
    "        character = int(character)\n",
    "        num_list.append(character)\n",
    "\n",
    "    counter = 0\n",
    "    product = 1\n",
    "    for element in num_list:\n",
    "        product = product * element\n",
    "        \n",
    "    return product\n",
    "    \n",
    "    \n",
    "a = 229\n",
    "b = prodDigits(a)\n",
    "\n",
    "print(f'The product of digits of the number {a} is:', b)\n"
   ]
  },
  {
   "cell_type": "code",
   "execution_count": 23,
   "id": "7e73a091",
   "metadata": {},
   "outputs": [],
   "source": [
    "############################################################################"
   ]
  },
  {
   "cell_type": "code",
   "execution_count": 24,
   "id": "51311af9",
   "metadata": {},
   "outputs": [],
   "source": [
    "#8. If all digits of a number n are multiplied by each other repeating with\n",
    "# the product, the one digit number obtained at last is called the \n",
    "# multiplicative digital root of n. The number of times digits need to be \n",
    "# multiplied to reach one digit is called the multiplicative persistence of n.\n",
    "# Using the function prodDigits() of previous exercise, write functions MDR()\n",
    "# and MPersistence that input a number and return its multiplicative digital root\n",
    "# and multiplicative persistence respectively."
   ]
  },
  {
   "cell_type": "code",
   "execution_count": 26,
   "id": "22efbb41",
   "metadata": {},
   "outputs": [
    {
     "name": "stdout",
     "output_type": "stream",
     "text": [
      "The Multiplicative Digital Root of 229 is 8 and its Multiplicative Persistence is 3\n"
     ]
    }
   ],
   "source": [
    "def MDR_and_MPersistence(num):\n",
    "    product = prodDigits(num)\n",
    "  \n",
    "    mPersistence = 1\n",
    "    while len(str(product)) >= 2:\n",
    "        product = prodDigits(product)\n",
    "        mPersistence = mPersistence + 1\n",
    "    \n",
    "    return product, mPersistence       \n",
    "\n",
    "\n",
    "c = 229\n",
    "d, e = MDR_and_MPersistence(c)\n",
    "\n",
    "print(f'The Multiplicative Digital Root of {c} is {d} and its Multiplicative Persistence is {e}')\n",
    " "
   ]
  },
  {
   "cell_type": "code",
   "execution_count": 27,
   "id": "74b0a717",
   "metadata": {},
   "outputs": [],
   "source": [
    "############################################################################"
   ]
  },
  {
   "cell_type": "code",
   "execution_count": 28,
   "id": "e5b72f55",
   "metadata": {},
   "outputs": [],
   "source": [
    "# 9. Write a function sumPdivisors() that finds the sum of proper divisors \n",
    "# of a number."
   ]
  },
  {
   "cell_type": "code",
   "execution_count": 29,
   "id": "98e645b2",
   "metadata": {},
   "outputs": [
    {
     "name": "stdout",
     "output_type": "stream",
     "text": [
      "Enter a number to find out the sum of its proper divisors: 100\n",
      "The sum of proper divisors of 100 is: 117\n"
     ]
    }
   ],
   "source": [
    "def sumPdivisors():\n",
    "    num = int(input('Enter a number to find out the sum of its proper divisors: '))\n",
    "    proper_divisors = []\n",
    "\n",
    "    for factor in range(1, num):\n",
    "        if num % factor == 0:\n",
    "            proper_divisors.append(factor)\n",
    "\n",
    "    counter = 0\n",
    "\n",
    "    for element in proper_divisors:\n",
    "        counter = counter + element\n",
    "\n",
    "    print(f'The sum of proper divisors of {num} is: {counter}')\n",
    "\n",
    "sumPdivisors()"
   ]
  },
  {
   "cell_type": "code",
   "execution_count": 30,
   "id": "b754181c",
   "metadata": {},
   "outputs": [],
   "source": [
    "############################################################################"
   ]
  },
  {
   "cell_type": "code",
   "execution_count": 31,
   "id": "84ebebc4",
   "metadata": {},
   "outputs": [],
   "source": [
    "# 10. Write a program to print all the perfect numbers in a given range."
   ]
  },
  {
   "cell_type": "code",
   "execution_count": 32,
   "id": "7dc08f97",
   "metadata": {},
   "outputs": [
    {
     "name": "stdout",
     "output_type": "stream",
     "text": [
      "Enter the first number: 100\n",
      "Enter the second number: 1000\n",
      "The perfect number(s) between 100 and 1000 is/are:  [496]\n"
     ]
    }
   ],
   "source": [
    "num1 = int(input('Enter the first number: '))\n",
    "num2 = int(input('Enter the second number: '))\n",
    "\n",
    "\n",
    "perfect_numbers = []\n",
    "\n",
    "for number in range(num1, num2+1):\n",
    "    temporary_proper_divisors = [] \n",
    "    if number >= 1:\n",
    "        for factor in range(1, number):\n",
    "            if number % factor == 0:\n",
    "                temporary_proper_divisors.append(factor)\n",
    "    \n",
    "\n",
    "    counter = 0\n",
    "\n",
    "    for element in temporary_proper_divisors:\n",
    "        counter = counter + element\n",
    "    \n",
    "    if counter == number:\n",
    "        perfect_numbers.append(number)\n",
    "\n",
    "if len(perfect_numbers) != 0:\n",
    "    print(f'The perfect number(s) between {num1} and {num2} is/are: ', perfect_numbers)\n",
    "elif len(perfect_numbers) == 0:\n",
    "    print(f'There are no perfect number(s) between {num1} and {num2}')"
   ]
  },
  {
   "cell_type": "code",
   "execution_count": 33,
   "id": "8e131bb0",
   "metadata": {},
   "outputs": [],
   "source": [
    "############################################################################"
   ]
  },
  {
   "cell_type": "code",
   "execution_count": 34,
   "id": "bf95aac9",
   "metadata": {},
   "outputs": [],
   "source": [
    "# 11. Write a function to print pairs of amicable numbers in a range."
   ]
  },
  {
   "cell_type": "code",
   "execution_count": 35,
   "id": "4a416264",
   "metadata": {},
   "outputs": [
    {
     "name": "stdout",
     "output_type": "stream",
     "text": [
      "Enter the first number: 100\n",
      "Enter the second number: 3000\n",
      " \n",
      "The amicable numbers in the range 100 and 3000: \n",
      "\n",
      "(284, 220)\n",
      "(1184, 1210)\n",
      "(2620, 2924)\n"
     ]
    }
   ],
   "source": [
    "num1 = int(input('Enter the first number: '))\n",
    "num2 = int(input('Enter the second number: '))\n",
    "\n",
    "range_of_numbers = list(range(num1,num2))\n",
    "\n",
    "sum_of_factors = []\n",
    "\n",
    "for number in range(num1, num2):\n",
    "    temporary_factors = []\n",
    "    \n",
    "    for factor in range(1, number):\n",
    "        if number % factor == 0:\n",
    "            temporary_factors.append(factor)\n",
    "            \n",
    "            counter = 0\n",
    "            for element in temporary_factors:\n",
    "                counter = counter + element\n",
    "    sum_of_factors.append(counter)\n",
    "\n",
    "\n",
    "k = list(zip(range_of_numbers, sum_of_factors))\n",
    "l = list(zip(sum_of_factors, range_of_numbers))\n",
    "\n",
    "amicable_numbers = []\n",
    "\n",
    "for element1 in k:\n",
    "    for element2 in l:\n",
    "        if element1 == element2:\n",
    "            amicable_numbers.append(element1)\n",
    "            \n",
    "for element1 in amicable_numbers:\n",
    "    for element2 in amicable_numbers:\n",
    "        if element1 == element2:\n",
    "            amicable_numbers.remove(element1)\n",
    "        \n",
    "print(' ')\n",
    "\n",
    "if len(amicable_numbers) == 0:\n",
    "    print(f'There are no amicable numbers in the range {num1} and {num2} \\n')\n",
    "else:   \n",
    "    print(f'The amicable numbers in the range {num1} and {num2}: \\n')\n",
    "            \n",
    "    for pair in amicable_numbers:\n",
    "        print(pair)\n"
   ]
  },
  {
   "cell_type": "code",
   "execution_count": 36,
   "id": "bcfa660b",
   "metadata": {},
   "outputs": [],
   "source": [
    "############################################################################"
   ]
  },
  {
   "cell_type": "code",
   "execution_count": 37,
   "id": "23bf52d8",
   "metadata": {},
   "outputs": [],
   "source": [
    "# 12. Write a program which can filter odd numbers in a list by using filter\n",
    "# function."
   ]
  },
  {
   "cell_type": "code",
   "execution_count": 38,
   "id": "aa852424",
   "metadata": {},
   "outputs": [
    {
     "name": "stdout",
     "output_type": "stream",
     "text": [
      "The odd numbers in the given list: [1, 3, 5, 7, 9, 11, 13, 15, 17, 19]\n"
     ]
    }
   ],
   "source": [
    "def odd_numbers(number):\n",
    "    if number % 2 != 0:\n",
    "        return number\n",
    "    \n",
    "list1 = list(range(1,21))\n",
    "\n",
    "odd_numbers_list = list(filter(odd_numbers, list1))\n",
    "\n",
    "print(f'The odd numbers in the given list: {odd_numbers_list}')"
   ]
  },
  {
   "cell_type": "code",
   "execution_count": 39,
   "id": "64869d36",
   "metadata": {},
   "outputs": [],
   "source": [
    "############################################################################"
   ]
  },
  {
   "cell_type": "code",
   "execution_count": 40,
   "id": "376e85dc",
   "metadata": {},
   "outputs": [],
   "source": [
    "# 13. Write a program which can map() to make a list whose elements are \n",
    "# cube of elements in a given list."
   ]
  },
  {
   "cell_type": "code",
   "execution_count": 41,
   "id": "8ac28952",
   "metadata": {},
   "outputs": [
    {
     "name": "stdout",
     "output_type": "stream",
     "text": [
      "The cube of numbers in the given list: [1, 8, 27, 64, 125, 216, 343, 512, 729, 1000, 1331, 1728, 2197, 2744, 3375, 4096, 4913, 5832, 6859, 8000]\n"
     ]
    }
   ],
   "source": [
    "def cube_of_number(number):\n",
    "    return number ** 3\n",
    "\n",
    "cube_of_number_list = list(map(cube_of_number, list1))\n",
    "\n",
    "print(f'The cube of numbers in the given list: {cube_of_number_list}')"
   ]
  },
  {
   "cell_type": "code",
   "execution_count": 42,
   "id": "2cabafc8",
   "metadata": {},
   "outputs": [],
   "source": [
    "############################################################################"
   ]
  },
  {
   "cell_type": "code",
   "execution_count": 43,
   "id": "acee2d64",
   "metadata": {},
   "outputs": [],
   "source": [
    "# 14. Write a program which can map() and filter() to make a list whose \n",
    "# elements are cube of even number in a given list."
   ]
  },
  {
   "cell_type": "code",
   "execution_count": 44,
   "id": "f909aa16",
   "metadata": {},
   "outputs": [
    {
     "name": "stdout",
     "output_type": "stream",
     "text": [
      "The cube of even numbers in the given list: [8, 64, 216, 512, 1000, 1728, 2744, 4096, 5832, 8000]\n"
     ]
    }
   ],
   "source": [
    "def even_numbers(number):\n",
    "    if number % 2 == 0:\n",
    "        return number\n",
    "\n",
    "even_numbers_list = list(filter(even_numbers, list1))\n",
    "\n",
    "cube_of_even_numbers = list(map(cube_of_number, even_numbers_list))\n",
    "\n",
    "print(f'The cube of even numbers in the given list: {cube_of_even_numbers}')"
   ]
  },
  {
   "cell_type": "code",
   "execution_count": 45,
   "id": "d51d3131",
   "metadata": {},
   "outputs": [],
   "source": [
    "############################################################################"
   ]
  },
  {
   "cell_type": "code",
   "execution_count": null,
   "id": "ff1c6e08",
   "metadata": {},
   "outputs": [],
   "source": []
  }
 ],
 "metadata": {
  "kernelspec": {
   "display_name": "Python 3",
   "language": "python",
   "name": "python3"
  },
  "language_info": {
   "codemirror_mode": {
    "name": "ipython",
    "version": 3
   },
   "file_extension": ".py",
   "mimetype": "text/x-python",
   "name": "python",
   "nbconvert_exporter": "python",
   "pygments_lexer": "ipython3",
   "version": "3.8.8"
  }
 },
 "nbformat": 4,
 "nbformat_minor": 5
}
