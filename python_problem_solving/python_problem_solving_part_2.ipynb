{
 "cells": [
  {
   "cell_type": "markdown",
   "id": "939d64e4",
   "metadata": {},
   "source": [
    "<h3> Q1: Given two matrices please print the product of those two matrices </h3>\n",
    "<pre>\n",
    "\n",
    "Ex 1: A   = [[1 3 4]\n",
    "             [2 5 7]\n",
    "             [5 9 6]]\n",
    "      B   = [[1 0 0]\n",
    "             [0 1 0]\n",
    "             [0 0 1]]\n",
    "      A*B = [[1 3 4]\n",
    "             [2 5 7]\n",
    "             [5 9 6]]\n",
    "\n",
    "     \n",
    "Ex 2: A   = [[1 2]\n",
    "             [3 4]]\n",
    "      B   = [[1 2 3 4 5]\n",
    "             [5 6 7 8 9]]\n",
    "      A*B = [[11 14 17 20 23]\n",
    "             [23 30 37 44 51]]\n",
    "             \n",
    "Ex 3: A   = [[1 2]\n",
    "             [3 4]]\n",
    "      B   = [[1 4]\n",
    "             [5 6]\n",
    "             [7 8]\n",
    "             [9 6]]\n",
    "      A*B =Not possible\n",
    "</pre>"
   ]
  },
  {
   "cell_type": "markdown",
   "id": "bc36913b",
   "metadata": {},
   "source": [
    "## Solution:"
   ]
  },
  {
   "cell_type": "code",
   "execution_count": 9,
   "id": "423215d2",
   "metadata": {},
   "outputs": [],
   "source": [
    "# matrix multiplication is only possible when the number of columns of\n",
    "# first matrix is equal to the number of rows of second matrix."
   ]
  },
  {
   "cell_type": "code",
   "execution_count": 10,
   "id": "dbd0200c",
   "metadata": {},
   "outputs": [],
   "source": [
    "#references:\n",
    "#https://www.geeksforgeeks.org/take-matrix-input-from-user-in-python/\n",
    "#https://www.geeksforgeeks.org/initialize-matrix-in-python/\n",
    "#https://www.geeksforgeeks.org/python-program-multiply-two-matrices/\n",
    "#https://stackoverflow.com/questions/13539968/how-can-i-find-the-dimensions-of-a-matrix-in-python"
   ]
  },
  {
   "cell_type": "code",
   "execution_count": 11,
   "id": "b2e8fc42",
   "metadata": {},
   "outputs": [
    {
     "name": "stdout",
     "output_type": "stream",
     "text": [
      "Enter the number of rows of the first matrix: 2\n",
      "Enter the number of columns of the first matrix: 2\n",
      "Enter the number of rows of the second matrix: 2\n",
      "Enter the number of columns of the second matrix: 5\n",
      "\n",
      "Enter the element values row-wise for the first matrix: \n",
      "1\n",
      "2\n",
      "3\n",
      "4\n",
      "\n",
      "Enter the element values row-wise for the second matrix: \n",
      "1\n",
      "2\n",
      "3\n",
      "4\n",
      "5\n",
      "5\n",
      "6\n",
      "7\n",
      "8\n",
      "9\n",
      "\n",
      "First matrix A =  [[1, 2], [3, 4]]\n",
      "Second matrix B =  [[1, 2, 3, 4, 5], [5, 6, 7, 8, 9]]\n",
      "\n",
      "Resultant matrix C =  [[11, 14, 17, 20, 23], [23, 30, 37, 44, 51]]\n"
     ]
    }
   ],
   "source": [
    "\n",
    "def matrix_mul():\n",
    "    \n",
    "    r1 = int(input(\"Enter the number of rows of the first matrix: \"))\n",
    "    c1 = int(input(\"Enter the number of columns of the first matrix: \"))\n",
    "    \n",
    "    r2 = int(input(\"Enter the number of rows of the second matrix: \"))\n",
    "    c2 = int(input(\"Enter the number of columns of the second matrix: \"))\n",
    "    \n",
    "    if c1 != r2:\n",
    "        print('\\nMatrix multiplication is not possible. Two matrices can be multiplied only if the number of columns of the first matrix is equal to the number of rows of the second matrix.')\n",
    "    elif c1 == r2:\n",
    "        print(\"\\nEnter the element values row-wise for the first matrix: \")\n",
    "    \n",
    "        A = []\n",
    "    \n",
    "        for i1 in range(r1): #input for first matrix\n",
    "            a = []\n",
    "            for j1 in range(c1):\n",
    "                a.append(int(input()))\n",
    "            A.append(a)\n",
    "    \n",
    "        print(\"\\nEnter the element values row-wise for the second matrix: \")\n",
    "    \n",
    "        B = []\n",
    "    \n",
    "        for i2 in range(r2): #input for second matrix\n",
    "            b = []\n",
    "            for j2 in range(c2):\n",
    "                b.append(int(input()))\n",
    "            B.append(b)\n",
    "        \n",
    "        print(\"\\nFirst matrix A = \", A)\n",
    "        print(\"Second matrix B = \", B)\n",
    "        \n",
    "\n",
    "        #resultant matrix would be of the size r1xc2\n",
    "    \n",
    "        C = [[0 for c in range(c2)] for r in range(r1)]\n",
    "    \n",
    "        for i in range(len(A)): #iterating through the rows of A\n",
    "            for j in range(len(B[0])): #iterating through the columns of B\n",
    "                for k in range(len(B)): #iterating through the rows of B\n",
    "                    C[i][j] = C[i][j] + (A[i][k] * B[k][j])    \n",
    "        \n",
    "        result = C\n",
    "        \n",
    "        print(\"\\nResultant matrix C = \", result)\n",
    "        \n",
    "\n",
    "        \n",
    "matrix_mul()\n"
   ]
  },
  {
   "cell_type": "markdown",
   "id": "4161777b",
   "metadata": {},
   "source": [
    "###############################################################################################################################"
   ]
  },
  {
   "cell_type": "markdown",
   "id": "53cf801d",
   "metadata": {},
   "source": [
    "<h3> Q2: Proportional Sampling - Select a number randomly with probability proportional to its magnitude from the given array of n elements</h3>\n",
    "\n",
    "Consider an experiment, selecting an element from the list A randomly with probability proportional to its magnitude.\n",
    "assume we are doing the same experiment for 100 times with replacement, in each experiment you will print a number that is selected randomly from A.\n",
    "\n",
    "<pre>\n",
    "Ex 1: A = [0 5 27 6 13 28 100 45 10 79]\n",
    "let f(x) denote the number of times x getting selected in 100 experiments.\n",
    "f(100) > f(79) > f(45) > f(28) > f(27) > f(13) > f(10) > f(6) > f(5) > f(0)\n",
    "</pre>"
   ]
  },
  {
   "cell_type": "markdown",
   "id": "5aa71c33",
   "metadata": {},
   "source": [
    "## Solution:"
   ]
  },
  {
   "cell_type": "code",
   "execution_count": 40,
   "id": "71f6c9eb",
   "metadata": {},
   "outputs": [],
   "source": [
    "a = [0, 5, 27, 6, 13, 28, 100, 45, 10, 79]"
   ]
  },
  {
   "cell_type": "code",
   "execution_count": 41,
   "id": "cd98e296",
   "metadata": {},
   "outputs": [
    {
     "name": "stdout",
     "output_type": "stream",
     "text": [
      "Below is the frequency of each number getting selected:\n",
      "\n",
      "Number: 6, Frequency: 3\n",
      "Number: 10, Frequency: 5\n",
      "Number: 13, Frequency: 4\n",
      "Number: 27, Frequency: 8\n",
      "Number: 28, Frequency: 8\n",
      "Number: 45, Frequency: 16\n",
      "Number: 79, Frequency: 24\n",
      "Number: 100, Frequency: 32\n"
     ]
    }
   ],
   "source": [
    "import numpy as np\n",
    "from random import uniform\n",
    "\n",
    "#step-1(a): compute the sum\n",
    "\n",
    "s = 0\n",
    "\n",
    "for element in a:\n",
    "    s = s + element\n",
    "    \n",
    "#step-1(b): divide each number with the sum - to normalise the values between 0 and 1\n",
    "\n",
    "normalised_values = []\n",
    "\n",
    "for element in a:\n",
    "    d = element/s\n",
    "    normalised_values.append(d)\n",
    "    \n",
    "#step-1(c) - computing the cumulative normalised values\n",
    "\n",
    "d_tilda = normalised_values[0]\n",
    "\n",
    "cumulative_norm_val = []\n",
    "\n",
    "for element in normalised_values:\n",
    "    d_tilda = d_tilda + element\n",
    "    cumulative_norm_val.append(d_tilda)\n",
    "\n",
    "#mapping element values to their cumulative normalised values\n",
    "ele_to_cumul_norm_map = {k:v for k, v in zip(a, cumulative_norm_val)}\n",
    "\n",
    "#step-3: proportional sampling\n",
    "\n",
    "def proportional_sampling(ele_to_cumul_norm_map):\n",
    "    \n",
    "    #sampling one random value from uniform distribution u(0,1)\n",
    "    r = np.random.uniform(0, 1, 1)\n",
    "\n",
    "    for key, value in ele_to_cumul_norm_map.items():\n",
    "        if r <= value:\n",
    "            return key\n",
    "        \n",
    "\n",
    "sampled_elements = []\n",
    "\n",
    "for i in range(1,101):\n",
    "    sample = proportional_sampling(ele_to_cumul_norm_map)\n",
    "    sampled_elements.append(sample)\n",
    "\n",
    "\n",
    "b = sorted(sampled_elements)\n",
    "\n",
    "from collections import Counter\n",
    "frequency = Counter(b)\n",
    "\n",
    "print(\"Below is the frequency of each number getting selected:\\n\")\n",
    "\n",
    "for key, value in frequency.items():\n",
    "    print(f\"Number: {key}, Frequency: {value}\")\n"
   ]
  },
  {
   "cell_type": "markdown",
   "id": "e797ee35",
   "metadata": {},
   "source": [
    "###############################################################################################################################"
   ]
  },
  {
   "cell_type": "markdown",
   "id": "f690e3e6",
   "metadata": {},
   "source": [
    "<h3> Q3: Replace the digits in the string with #</h3>\n",
    "\n",
    "consider a string that will have digits in that, we need to remove all the not digits and replace the digits with #\n",
    "<pre>\n",
    "Ex 1: A = 234                Output: ###\n",
    "Ex 2: A = a2b3c4             Output: ###\n",
    "Ex 3: A = abc                Output:   (empty string)\n",
    "Ex 5: A = #2a$#b%c%561#      Output: ####\n",
    "</pre>"
   ]
  },
  {
   "cell_type": "markdown",
   "id": "e9d63d84",
   "metadata": {},
   "source": [
    "## Solution:"
   ]
  },
  {
   "cell_type": "code",
   "execution_count": 14,
   "id": "bff3f1aa",
   "metadata": {},
   "outputs": [],
   "source": [
    "#reference: https://www.geeksforgeeks.org/python-substituting-patterns-in-text-using-regex/\n",
    "#reference: https://www.geeksforgeeks.org/write-regular-expressions/"
   ]
  },
  {
   "cell_type": "code",
   "execution_count": 15,
   "id": "f81ba543",
   "metadata": {},
   "outputs": [
    {
     "name": "stdout",
     "output_type": "stream",
     "text": [
      "for 234: ###\n",
      "for a2b3c4: ###\n",
      "for abc: \n",
      "for #2a$#b%c%561#: ####\n"
     ]
    }
   ],
   "source": [
    "import re\n",
    "\n",
    "def replace_digits(string):\n",
    "    \n",
    "    mod_string = re.sub(r\"[\\D]\", \"\", string) #replacing non-digits with empty string\n",
    "    \n",
    "    string = re.sub(r\"[\\d]\", \"#\", mod_string) #replacing digits with \"#\"\n",
    "        \n",
    "    return string\n",
    "\n",
    "\n",
    "\n",
    "result1 = replace_digits(\"234\")\n",
    "print(\"for 234:\", result1)\n",
    "\n",
    "result2 = replace_digits(\"a2b3c4\")\n",
    "print(\"for a2b3c4:\", result2)\n",
    "\n",
    "result3 = replace_digits(\"abc\")\n",
    "print(\"for abc:\", result3)\n",
    "\n",
    "result4 = replace_digits(\"#2a$#b%c%561#\")\n",
    "print(\"for #2a$#b%c%561#:\", result4)"
   ]
  },
  {
   "cell_type": "markdown",
   "id": "beaaebf1",
   "metadata": {},
   "source": [
    "###############################################################################################################################"
   ]
  },
  {
   "cell_type": "markdown",
   "id": "93de0daf",
   "metadata": {},
   "source": [
    "<h3> Q4: Students marks dashboard</h3>\n",
    "\n",
    "consider the marks list of class students given two lists <br>\n",
    "Students = ['student1','student2','student3','student4','student5','student6','student7','student8','student9','student10'] <br>\n",
    "Marks = [45, 78, 12, 14, 48, 43, 47, 98, 22, 80] <br>\n",
    "from the above two lists the Student[0] got Marks[0],  Student[1] got Marks[1] and so on <br><br>\n",
    "your task is to print the name of students\n",
    "<strong>a. Who got top 5 ranks, in the descending order of marks</strong> <br>\n",
    "<strong>b. Who got least 5 ranks, in the increasing order of marks</strong><br>\n",
    "<strong>d. Who got marks between  &gt;25th percentile &lt;75th percentile, in the increasing order of marks</strong>\n"
   ]
  },
  {
   "cell_type": "markdown",
   "id": "f1a0dd1e",
   "metadata": {},
   "source": [
    "## Solution:"
   ]
  },
  {
   "cell_type": "code",
   "execution_count": 16,
   "id": "f66435c5",
   "metadata": {},
   "outputs": [],
   "source": [
    "students = ['student1','student2','student3','student4','student5','student6','student7','student8','student9','student10']\n",
    "marks = [45, 78, 12, 14, 48, 43, 47, 98, 22, 80]"
   ]
  },
  {
   "cell_type": "code",
   "execution_count": 17,
   "id": "9e054a46",
   "metadata": {},
   "outputs": [
    {
     "name": "stdout",
     "output_type": "stream",
     "text": [
      "a) Students who got top 5 ranks:\n",
      "\n",
      "student8 : 98 marks\n",
      "student10 : 80 marks\n",
      "student2 : 78 marks\n",
      "student5 : 48 marks\n",
      "student7 : 47 marks\n",
      "\n",
      "b) Students who got least 5 ranks:\n",
      "\n",
      "student3 : 12 marks\n",
      "student4 : 14 marks\n",
      "student9 : 22 marks\n",
      "student6 : 43 marks\n",
      "student1 : 45 marks\n",
      "\n",
      "c) Students who got marks between >25th percentile and <75th percentile:\n",
      "\n",
      "student6 : 43 marks\n",
      "student1 : 45 marks\n",
      "student7 : 47 marks\n",
      "student5 : 48 marks\n"
     ]
    }
   ],
   "source": [
    "#building a dictionary from two lists\n",
    "\n",
    "students_marks = {k:v for k, v in zip(students, marks)}\n",
    "\n",
    "#re-ordering the dictionary in descending order and ascending order \n",
    "#respectively and storing them in new dictionaries\n",
    "\n",
    "ordered_dict_desc = {key: value for key, value in sorted(students_marks.items(), key=lambda item: item[1], reverse = True)}\n",
    "ordered_dict_ascen = {key: value for key, value in sorted(students_marks.items(), key=lambda item: item[1])}\n",
    "\n",
    "#here we are deleting the keys which are not needed for this \n",
    "#particular task\n",
    "\n",
    "keys_to_del = ['student1', 'student6', 'student9', 'student4', 'student3']\n",
    "for key in keys_to_del:\n",
    "    if key in ordered_dict_desc:\n",
    "        del ordered_dict_desc[key]\n",
    "        \n",
    "keys_to_del2 = ['student7', 'student5', 'student2', 'student10', 'student8']\n",
    "for key in keys_to_del2:\n",
    "    if key in ordered_dict_ascen:\n",
    "        del ordered_dict_ascen[key]\n",
    "print('a) Students who got top 5 ranks:\\n')\n",
    "\n",
    "for key, value in ordered_dict_desc.items():\n",
    "        print(key, ':', value, 'marks')\n",
    "\n",
    "print('\\nb) Students who got least 5 ranks:\\n')\n",
    "\n",
    "for key, value in ordered_dict_ascen.items():\n",
    "        print(key, ':', value, 'marks')\n",
    "\n",
    "        \n",
    "#calculating percentile value:\n",
    "import math\n",
    "\n",
    "a = [12, 14, 22, 43, 45, 47, 48, 78, 80, 98]\n",
    "\n",
    "def percentile_value_calculation(percentile):\n",
    "    \n",
    "    distance = len(a) - 1\n",
    "    index_of_percentile = percentile * distance\n",
    "    separated_number = math.modf(index_of_percentile)\n",
    "\n",
    "    int_value = int(separated_number[1])\n",
    "    dec_value = separated_number[0]\n",
    "\n",
    "    percentile_value = a[int_value] + (a[int_value + 1] - a[int_value]) * dec_value\n",
    "    \n",
    "    return percentile_value\n",
    "\n",
    "\n",
    "p = 0.25\n",
    "q = 0.75\n",
    "percentile_1 = percentile_value_calculation(p)\n",
    "percentile_2 = percentile_value_calculation(q)\n",
    "\n",
    "b = []\n",
    "for element in a:\n",
    "    if element > percentile_1  and element < percentile_2:\n",
    "        b.append(element)\n",
    "        \n",
    "dict_for_percentile = {key: value for key, value in sorted(students_marks.items(), key=lambda item: item[1])}\n",
    "\n",
    "print('\\nc) Students who got marks between >25th percentile and <75th percentile:\\n')\n",
    "for key, value in dict_for_percentile.items():\n",
    "    for element in b:\n",
    "        if element == value:\n",
    "            print(key, ':', value, 'marks')"
   ]
  },
  {
   "cell_type": "code",
   "execution_count": 18,
   "id": "e4fa1914",
   "metadata": {},
   "outputs": [],
   "source": [
    "# reference article(s):\n",
    "\n",
    "#https://stackoverflow.com/questions/613183/how-do-i-sort-a-dictionary-by-value\n",
    "#https://stackoverflow.com/questions/8995611/removing-multiple-keys-from-a-dictionary-safely\n",
    "#https://www.geeksforgeeks.org/python-remove-multiple-keys-from-dictionary/\n",
    "#https://stackoverflow.com/questions/48799231/numpy-percentiles-with-linear-interpolation-wrong-value/48799350#48799350\n",
    "#https://ideone.com/7NyfF9"
   ]
  },
  {
   "cell_type": "markdown",
   "id": "68b4813e",
   "metadata": {},
   "source": [
    "###############################################################################################################################"
   ]
  },
  {
   "cell_type": "markdown",
   "id": "f5b1d320",
   "metadata": {},
   "source": [
    "<h3> Q5: Find the closest points</h3>\n",
    "\n",
    "Consider you have given n data points in the form of list of tuples like S=[(x1,y1),(x2,y2),(x3,y3),(x4,y4),(x5,y5),..,(xn,yn)] and a point P=(p,q) <br> Your task is to find 5 closest points(based on cosine distance) in S from P\n",
    "<br>Cosine distance between two points (x,y) and (p,q) is defind as $cos^{-1}(\\frac{(x\\cdot p+y\\cdot q)}{\\sqrt(x^2+y^2)\\cdot\\sqrt(p^2+q^2)})$\n",
    "<pre>\n",
    "Ex:\n",
    "\n",
    "S= [(1,2),(3,4),(-1,1),(6,-7),(0, 6),(-5,-8),(-1,-1),(6,0),(1,-1)]\n",
    "P= (3,-4)\n",
    "\n",
    "<img src='https://i.imgur.com/vyZZQGu.png' width=400>\n",
    "\n",
    "Output:\n",
    "(6,-7)\n",
    "(1,-1)\n",
    "(6,0)\n",
    "(-5,-8)\n",
    "(-1,-1)\n",
    "</pre>\n",
    " Hint - If you write the formula correctly you'll get the distance between points (6,-7) and (3,-4) = 0.065"
   ]
  },
  {
   "cell_type": "markdown",
   "id": "5e92368d",
   "metadata": {},
   "source": [
    "## Solution:"
   ]
  },
  {
   "cell_type": "code",
   "execution_count": 19,
   "id": "d1a2f456",
   "metadata": {},
   "outputs": [
    {
     "name": "stdout",
     "output_type": "stream",
     "text": [
      "The 5 closest points in S from P are (from minimum distance to maximum distance):\n",
      "\n",
      "(6, -7)\n",
      "(1, -1)\n",
      "(6, 0)\n",
      "(-5, -8)\n",
      "(-1, -1)\n"
     ]
    }
   ],
   "source": [
    "import math\n",
    "\n",
    "cosine_distances = []\n",
    "\n",
    "def closest_points_to_p(S, P):\n",
    "\n",
    "    for X in S:\n",
    "        a = (X[0]*P[0] + X[1]*P[1]) #numerator\n",
    "        \n",
    "        b = math.sqrt((X[0]**2) + (X[1]**2)) * math.sqrt((P[0]**2) + (P[1]**2)) #denomenator\n",
    "        if b == 0:\n",
    "            continue\n",
    "        \n",
    "        c = a / b\n",
    "        if c < -1 or c > 1:\n",
    "            continue\n",
    "        \n",
    "        d = math.acos(c)\n",
    "    \n",
    "        cosine_distances.append(d)\n",
    "        \n",
    "        \n",
    "        #mapping the point to cosine distance:\n",
    "        point_to_dis_map = {k:v for k, v in zip(S, cosine_distances)}\n",
    "        \n",
    "        \n",
    "        #sorting the dictionary based on the distances\n",
    "        points_sorted_by_distance = dict(sorted(point_to_dis_map.items(), key=lambda value: value[1]))\n",
    "    \n",
    "    \n",
    "    return points_sorted_by_distance\n",
    "        \n",
    "    \n",
    "\n",
    "S= [(1,2),(3,4),(-1,1),(6,-7),(0, 6),(-5,-8),(-1,-1),(6,0),(1,-1)]\n",
    "P= (3,-4)\n",
    "\n",
    "result = closest_points_to_p(S, P)\n",
    "number_of_closest_points_to_display = 5\n",
    "print(f\"The {number_of_closest_points_to_display} closest points in S from P are (from minimum distance to maximum distance):\\n\")  \n",
    "\n",
    "\n",
    "i = 0\n",
    "for key in result:\n",
    "    print(key)\n",
    "    i = i+ 1\n",
    "    if i == number_of_closest_points_to_display:\n",
    "        break\n"
   ]
  },
  {
   "cell_type": "code",
   "execution_count": 20,
   "id": "493a9894",
   "metadata": {},
   "outputs": [],
   "source": [
    "#rough work:\n",
    "\n",
    "\n",
    "#through only S:\n",
    "\n",
    "# a = (S[3][0]*P[0] + S[3][1]*P[1])\n",
    "# b = math.sqrt((S[3][0]**2) + (S[3][1]**2)) * math.sqrt((P[0]**2) + (P[1]**2))\n",
    "# c = a / b\n",
    "# d = math.acos(c)\n",
    "# #print(d)"
   ]
  },
  {
   "cell_type": "markdown",
   "id": "d9b3977a",
   "metadata": {},
   "source": [
    "###############################################################################################################################"
   ]
  },
  {
   "cell_type": "markdown",
   "id": "a401045a",
   "metadata": {},
   "source": [
    "<h3> Q6: Find which line separates red and blue points</h3>  \n",
    "\n",
    "consider you have given two set of data points in the form of list of tuples like \n",
    "<pre>\n",
    "Red =[(R11,R12),(R21,R22),(R31,R32),(R41,R42),(R51,R52),..,(Rn1,Rn2)]\n",
    "Blue=[(B11,B12),(B21,B22),(B31,B32),(B41,B42),(B51,B52),..,(Bm1,Bm2)]\n",
    "</pre>\n",
    "and set of line equations(in the string formate, i.e list of strings)\n",
    "<pre>\n",
    "Lines = [a1x+b1y+c1,a2x+b2y+c2,a3x+b3y+c3,a4x+b4y+c4,..,K lines]\n",
    "Note: you need to string parsing here and get the coefficients of x,y and intercept\n",
    "</pre>\n",
    "your task is to for each line that is given print \"YES\"/\"NO\", you will print yes, if all the red points are one side of the line and blue points are other side of the line, otherwise no\n",
    "<pre>\n",
    "Ex:\n",
    "Red= [(1,1),(2,1),(4,2),(2,4), (-1,4)]\n",
    "Blue= [(-2,-1),(-1,-2),(-3,-2),(-3,-1),(1,-3)]\n",
    "Lines=[\"1x+1y+0\",\"1x-1y+0\",\"1x+0y-3\",\"0x+1y-0.5\"]\n",
    "<img src='https://i.imgur.com/mSnQW5K.png' width=400>\n",
    "\n",
    "Output:\n",
    "YES\n",
    "NO\n",
    "NO\n",
    "YES\n",
    "</pre>"
   ]
  },
  {
   "cell_type": "markdown",
   "id": "e2c37d07",
   "metadata": {},
   "source": [
    "## Solution:"
   ]
  },
  {
   "cell_type": "code",
   "execution_count": 21,
   "id": "22670ecf",
   "metadata": {},
   "outputs": [
    {
     "name": "stdout",
     "output_type": "stream",
     "text": [
      "Yes\n",
      "No\n",
      "No\n",
      "Yes\n"
     ]
    }
   ],
   "source": [
    "import re\n",
    "\n",
    "def classification_of_labels(red, blue, line):\n",
    "    \n",
    "    replace = ['x', '+', 'y']\n",
    "    for element in replace:\n",
    "        line = line.replace(element, ' ')   #reference: https://stackoverflow.com/questions/1059559/split-strings-into-words-with-multiple-word-boundary-delimiters\n",
    "        coe_line = line.split()\n",
    "\n",
    "    coef_list = []\n",
    "    for element in coe_line:\n",
    "        coef_l = float(element)\n",
    "        coef_list.append(coef_l)    \n",
    "\n",
    "    a, b, c = coef_list    #values of a,b,c\n",
    "    \n",
    "    red_values = []\n",
    "    for X in red:\n",
    "        sign1 = (a*X[0]) + (b*X[1]) - (-c)\n",
    "        red_values.append(sign1)\n",
    "    \n",
    "    blue_values = []\n",
    "    for Y in blue:\n",
    "        sign2 = (a*Y[0]) + (b*Y[1]) - (-c)\n",
    "        blue_values.append(sign2)\n",
    "\n",
    "    if (all(value > 0 for value in red_values)) and (all(value < 0 for value in blue_values)):\n",
    "        print('Yes')       \n",
    "    elif (all(value < 0 for value in red_values)) and (all(value > 0 for value in blue_values)):\n",
    "        print('Yes')\n",
    "    else:\n",
    "        print(\"No\")\n",
    "    \n",
    "\n",
    "Red= [(1,1),(2,1),(4,2),(2,4), (-1,4)]\n",
    "Blue= [(-2,-1),(-1,-2),(-3,-2),(-3,-1),(1,-3)]\n",
    "Lines=[\"1x+1y+0\",\"1x-1y+0\",\"1x+0y-3\",\"0x+1y-0.5\"]\n",
    "\n",
    "for i in Lines:\n",
    "    yes_or_no = classification_of_labels(Red, Blue, i)\n",
    "    "
   ]
  },
  {
   "cell_type": "code",
   "execution_count": 22,
   "id": "37aaee07",
   "metadata": {},
   "outputs": [],
   "source": [
    "#rough work:\n",
    "\n",
    "# line1 = \"1x+1y+0\"\n",
    "# a1 = int(line1.split(\"+\")[0][0])\n",
    "# b1 = line1.split(\"+\")[1][0]\n",
    "# c1 = line1.split(\"+\")[2][0]\n",
    "# print(a1)\n",
    "# print(type(a1))\n",
    "\n",
    "# line1 = '1x+1y+0'\n",
    "# n_line1 = line1.replace('x',' ').replace('+',' ').replace('y',' ')\n",
    "# n_line1"
   ]
  },
  {
   "cell_type": "markdown",
   "id": "c9bca824",
   "metadata": {},
   "source": [
    "###############################################################################################################################"
   ]
  },
  {
   "cell_type": "markdown",
   "id": "2df0dcd4",
   "metadata": {},
   "source": [
    "<h3> Q7: Filling the missing values in the specified format</h3>   \n",
    "  \n",
    "You will be given a string with digits and '\\_'(missing value) symbols you have to replace the '\\_' symbols as explained \n",
    "<pre>\n",
    "Ex 1: _, _, _, 24 ==> 24/4, 24/4, 24/4, 24/4 i.e we. have distributed the 24 equally to all 4 places <br>\n",
    "Ex 2: 40, _, _, _, 60 ==> (60+40)/5,(60+40)/5,(60+40)/5,(60+40)/5,(60+40)/5 ==> 20, 20, 20, 20, 20 i.e. the sum of (60+40) is distributed qually to all 5 places<br>\n",
    "Ex 3: 80, _, _, _, _  ==> 80/5,80/5,80/5,80/5,80/5 ==> 16, 16, 16, 16, 16 i.e. the 80 is distributed qually to all 5 missing values that are right to it<br>\n",
    "Ex 4: _, _, 30, _, _, _, 50, _, _  \n",
    "==> we will fill the missing values from left to right \n",
    "    a. first we will distribute the 30 to left two missing values (10, 10, 10, _, _, _, 50, _, _)\n",
    "    b. now distribute the sum (10+50) missing values in between (10, 10, 12, 12, 12, 12, 12, _, _) \n",
    "    c. now we will distribute 12 to right side missing values (10, 10, 12, 12, 12, 12, 4, 4, 4)\n",
    "</pre>\n",
    "for a given string with comma seprate values, which will have both missing values numbers like ex: \"_, _, x, _, _, _\"\n",
    "you need fill the missing values\n",
    "\n",
    "Q: your program reads a string like ex: \"_, _, x, _, _, _\" and returns the filled sequence\n",
    "\n",
    "Ex: \n",
    "<pre>\n",
    "Input1: \"_,_,_,24\"\n",
    "Output1: 6,6,6,6\n",
    "\n",
    "Input2: \"40,_,_,_,60\"\n",
    "Output2: 20,20,20,20,20\n",
    "\n",
    "Input3: \"80,_,_,_,_\"\n",
    "Output3: 16,16,16,16,16\n",
    "\n",
    "Input4: \"_,_,30,_,_,_,50,_,_\"\n",
    "Output4: 10,10,12,12,12,12,4,4,4\n",
    "\n",
    "</pre>\n",
    "\n"
   ]
  },
  {
   "cell_type": "markdown",
   "id": "27224e92",
   "metadata": {},
   "source": [
    "## Solution:"
   ]
  },
  {
   "cell_type": "markdown",
   "id": "48548032",
   "metadata": {},
   "source": [
    "### Program written for the string pattern(s):\n",
    "\n",
    "<pre>\n",
    "\n",
    "1) \"_,_,_,X\" - starting with a missing value and ending with a number.\n",
    "\n",
    "2) \"X,_,_,_,Y\" - starting with a number and ending with a number but missing values in between.\n",
    "\n",
    "3) \"X,_,_,_,_\" - starting with a number and ending with a missing value.\n",
    "\n",
    "</pre>"
   ]
  },
  {
   "cell_type": "code",
   "execution_count": 23,
   "id": "adc78ee4",
   "metadata": {},
   "outputs": [],
   "source": [
    "def filling_missing_values(a):\n",
    "    \n",
    "    b = a.split(',')\n",
    "    \n",
    "    indices_of_missing_values1 = []\n",
    "    index_of_number1 = []\n",
    "\n",
    "    for index, value in enumerate(b):\n",
    "        if value == '_':\n",
    "            indices_of_missing_values1.append(index)\n",
    "        if value != '_':\n",
    "            index_of_number1.append(index)\n",
    " \n",
    "    \n",
    "    for index_value in indices_of_missing_values1:\n",
    "    \n",
    "#case -1 : If i is zero, then fill all the gaps with (S[j])/(j-i+1)\n",
    "    \n",
    "        if index_value == 0:\n",
    "            i = index_value\n",
    "            j = index_of_number1[0]\n",
    "            part = int(int(b[j])/(j-i+1))\n",
    "            string_of_part = str(part)\n",
    "\n",
    "            for i in range(j+1): \n",
    "                b[i] = string_of_part\n",
    "            \n",
    "            for element in b:\n",
    "                if element == '_':\n",
    "                    pass\n",
    "                \n",
    "                else:\n",
    "                    result = b\n",
    "                    return result\n",
    "                    break\n",
    "                    \n",
    "                        \n",
    "#case - 2: If index != 0:     \n",
    "        \n",
    "        else:\n",
    "            if index != 0 and value != '_' and b[-1] != '_': \n",
    "                i = indices_of_missing_values1[0] - 1\n",
    "                j = index\n",
    "\n",
    "                if j != 0: \n",
    "                    part = (int(b[i])+int(b[j]))/(j-i+1)\n",
    "                    string_of_part = str(int(part))\n",
    "                    \n",
    "                    for i in range(j+1): \n",
    "                        b[i] = string_of_part\n",
    "                    \n",
    "                    for element in b:\n",
    "                        if element == '_':\n",
    "                            pass\n",
    "                        else:\n",
    "                            result = b\n",
    "                            return result\n",
    "                            break\n",
    "                        \n",
    "                         \n",
    "            elif index != 0 and b[-1] == '_': \n",
    "                i = indices_of_missing_values1[0] - 1\n",
    "                j = 0\n",
    "               \n",
    "                sum_of_numbers = 0\n",
    "                for index in index_of_number1:\n",
    "                    sum_of_numbers = sum_of_numbers + int(b[index])\n",
    "        \n",
    "                division = len(indices_of_missing_values1) + len(index_of_number1)\n",
    "\n",
    "                part = sum_of_numbers / division\n",
    "                string_of_part = str(int(part))\n",
    "                \n",
    "                for i in range(division):\n",
    "                    b[i] = string_of_part\n",
    "                result = b\n",
    "                return b\n",
    "\n",
    "                     "
   ]
  },
  {
   "cell_type": "code",
   "execution_count": 24,
   "id": "1b9c6ab2",
   "metadata": {},
   "outputs": [
    {
     "name": "stdout",
     "output_type": "stream",
     "text": [
      "The final output for the input string - _,_,_,24 is:  6,6,6,6\n",
      "\n",
      "The final output for the input string - 40,_,_,_,60 is:  20,20,20,20,20\n",
      "\n",
      "The final output for the input string - 80,_,_,_,_ is:  16,16,16,16,16\n"
     ]
    }
   ],
   "source": [
    "#input - 1:\n",
    "\n",
    "a = \"_,_,_,24\"\n",
    "result = filling_missing_values(a)\n",
    "final_result = ','.join(result)\n",
    "print(f\"The final output for the input string - {a} is: \", final_result)\n",
    "\n",
    "#input - 2:\n",
    "\n",
    "a = \"40,_,_,_,60\"\n",
    "result = filling_missing_values(a)\n",
    "final_result = ','.join(result)\n",
    "print(f\"\\nThe final output for the input string - {a} is: \", final_result)\n",
    "\n",
    "#input - 3:\n",
    "\n",
    "a = \"80,_,_,_,_\"\n",
    "result = filling_missing_values(a)\n",
    "final_result = ','.join(result)\n",
    "print(f\"\\nThe final output for the input string - {a} is: \", final_result)\n"
   ]
  },
  {
   "cell_type": "markdown",
   "id": "ffbc1510",
   "metadata": {},
   "source": [
    "### Program specially written for the string pattern(s):\n",
    "\n",
    "<pre>\n",
    "\n",
    "1) \"_,_,X,_,_,_,Y,_,_\" - starting and ending with missing values but with numbers and missing values in between.\n",
    "\n",
    "2) \"X,_,_,_,Y\" - starting with a number and ending with a number but missing values in between.\n",
    "\n",
    "</pre>"
   ]
  },
  {
   "cell_type": "code",
   "execution_count": 25,
   "id": "645c850b",
   "metadata": {},
   "outputs": [],
   "source": [
    "def fill_missing_values(a):\n",
    "    \n",
    "    b = a.split(\",\")\n",
    "\n",
    "#step - 1: from left to the first encountered number:\n",
    "\n",
    "    indices_of_missing_values_1 = []\n",
    "    index_of_number_1 = []\n",
    "    \n",
    "    for index, value in enumerate(b):\n",
    "        if value == \"_\":\n",
    "            indices_of_missing_values_1.append(index)\n",
    "        elif value != \"_\":\n",
    "            j = index #index value of first number\n",
    "            index_of_number_1.append(index)\n",
    "            first_number = value\n",
    "            break\n",
    "            \n",
    "    number_of_parts_1 = len(indices_of_missing_values_1) + len(index_of_number_1)\n",
    "    division_1 = float(first_number) / number_of_parts_1\n",
    "   \n",
    "    for i in range(number_of_parts_1):\n",
    "        b[i] = str(int(division_1))\n",
    "    \n",
    "    \n",
    "#step - 2: from the first encountered number to the second encountered number:\n",
    "\n",
    "    for l in range(j + 1, len(b)):\n",
    "        if b[l] != \"_\":\n",
    "            flag_index = l #index value of second number\n",
    "            second_number = b[l]\n",
    "            break\n",
    "            \n",
    "    number_of_parts_2 = l - (j-1)\n",
    "    sum_of_numbers = float(b[j]) + float(b[l])\n",
    "    division_2 = sum_of_numbers / number_of_parts_2\n",
    "    \n",
    "    for n in range(j, l + 1):\n",
    "        b[n] = str(int(division_2))\n",
    "    \n",
    "    \n",
    "#step - 3: from the second encountered number to the last element:\n",
    "\n",
    "    number_of_parts_3 = len(b) - l\n",
    "    division_3 = float(b[l]) / number_of_parts_3\n",
    "\n",
    "    for t in range(l, len(b)):\n",
    "        b[t] = str(int(division_3))\n",
    "    \n",
    "    return b\n",
    "            "
   ]
  },
  {
   "cell_type": "code",
   "execution_count": 26,
   "id": "d402c24e",
   "metadata": {},
   "outputs": [
    {
     "name": "stdout",
     "output_type": "stream",
     "text": [
      "The final output for the input string - _,_,30,_,_,_,50,_,_ is:  10,10,12,12,12,12,4,4,4\n",
      "\n",
      "The final output for the input string - 40,_,_,_,60 is:  20,20,20,20,20\n"
     ]
    }
   ],
   "source": [
    "#input - 1:\n",
    "\n",
    "a = \"_,_,30,_,_,_,50,_,_\"\n",
    "result = fill_missing_values(a)\n",
    "final_result = ','.join(result)\n",
    "print(f\"The final output for the input string - {a} is: \", final_result)\n",
    "\n",
    "#input - 2:\n",
    "\n",
    "a = \"40,_,_,_,60\"\n",
    "result = fill_missing_values(a)\n",
    "final_result = ','.join(result)\n",
    "print(f\"\\nThe final output for the input string - {a} is: \", final_result)"
   ]
  },
  {
   "cell_type": "markdown",
   "id": "c8cab9cb",
   "metadata": {},
   "source": [
    "###############################################################################################################################"
   ]
  },
  {
   "cell_type": "markdown",
   "id": "c96ba148",
   "metadata": {},
   "source": [
    "<h3> Q8: Finding the conditional probabilities</h3>      \n",
    "\n",
    "You will be given a list of lists, each sublist will be of length 2 i.e. [[x,y],[p,q],[l,m]..[r,s]]\n",
    "consider its like a martrix of n rows and two columns\n",
    "1. the first column F will contain only 5 uniques values (F1, F2, F3, F4, F5)\n",
    "2. the second column S will contain only 3 uniques values (S1, S2, S3)\n",
    "<pre>\n",
    "your task is to find\n",
    "a. Probability of P(F=F1|S==S1), P(F=F1|S==S2), P(F=F1|S==S3)\n",
    "b. Probability of P(F=F2|S==S1), P(F=F2|S==S2), P(F=F2|S==S3)\n",
    "c. Probability of P(F=F3|S==S1), P(F=F3|S==S2), P(F=F3|S==S3)\n",
    "d. Probability of P(F=F4|S==S1), P(F=F4|S==S2), P(F=F4|S==S3)\n",
    "e. Probability of P(F=F5|S==S1), P(F=F5|S==S2), P(F=F5|S==S3)\n",
    "</pre>"
   ]
  },
  {
   "cell_type": "markdown",
   "id": "ce1b9c3c",
   "metadata": {},
   "source": [
    "## Solution:"
   ]
  },
  {
   "cell_type": "code",
   "execution_count": 27,
   "id": "15146e62",
   "metadata": {},
   "outputs": [],
   "source": [
    "b = [['F1','S1'],\n",
    "     ['F2','S2'],\n",
    "     ['F3','S3'],\n",
    "     ['F1','S2'],\n",
    "     ['F2','S3'],\n",
    "     ['F3','S2'],\n",
    "     ['F2','S1'],\n",
    "     ['F4','S1'],\n",
    "     ['F4','S3'],\n",
    "     ['F5','S1']]"
   ]
  },
  {
   "cell_type": "code",
   "execution_count": 28,
   "id": "0cd9f423",
   "metadata": {
    "scrolled": true
   },
   "outputs": [
    {
     "name": "stdout",
     "output_type": "stream",
     "text": [
      "The Conditional Probabilities are as follows:\n",
      "\n",
      "a. P(F=F1|S==S1) = 0.25, P(F=F1|S==S2) = 0.3333333333333333, P(F=F1|S==S3) = 0.0\n",
      "b. P(F=F2|S==S1) = 0.25, P(F=F2|S==S2) = 0.3333333333333333, P(F=F2|S==S3) = 0.3333333333333333\n",
      "c. P(F=F3|S==S1) = 0.0, P(F=F3|S==S2) = 0.3333333333333333, P(F=F3|S==S3) = 0.3333333333333333\n",
      "d. P(F=F4|S==S1) = 0.25, P(F=F4|S==S2) = 0.0, P(F=F4|S==S3) = 0.3333333333333333\n",
      "e. P(F=F5|S==S1) = 0.25, P(F=F5|S==S2) = 0.0, P(F=F5|S==S3) = 0.0\n"
     ]
    }
   ],
   "source": [
    "\n",
    "n_s1 = n_s2 = n_s3 = 0\n",
    "\n",
    "n_f1_s1 = n_f1_s2 = n_f1_s3 = n_f2_s1 = n_f2_s2 = n_f2_s3 = n_f3_s1 = n_f3_s2 = n_f3_s3 = 0\n",
    "n_f4_s1 = n_f4_s2 = n_f4_s3 = n_f5_s1 = n_f5_s2 = n_f5_s3 = 0\n",
    "\n",
    "\n",
    "for row in b:\n",
    "    for element in row:\n",
    "        if element == 'S1':\n",
    "            n_s1 = n_s1 + 1\n",
    "        elif element == 'S2':\n",
    "            n_s2 = n_s2 + 1\n",
    "        elif element == 'S3':\n",
    "            n_s3 = n_s3 + 1\n",
    "\n",
    "\n",
    "for sub_list in b:\n",
    "    if sub_list[0] == 'F1' and sub_list[1] == 'S1':\n",
    "        n_f1_s1 += 1\n",
    "    elif sub_list[0] == 'F1' and sub_list[1] == 'S2':\n",
    "        n_f1_s2 += 1\n",
    "    elif sub_list[0] == 'F1' and sub_list[1] == 'S3':\n",
    "        n_f1_s3 += 1\n",
    "    elif sub_list[0] == 'F2' and sub_list[1] == 'S1':\n",
    "        n_f2_s1 += 1\n",
    "    elif sub_list[0] == 'F2' and sub_list[1] == 'S2':\n",
    "        n_f2_s2 += 1\n",
    "    elif sub_list[0] == 'F2' and sub_list[1] == 'S3':\n",
    "        n_f2_s3 += 1\n",
    "    elif sub_list[0] == 'F3' and sub_list[1] == 'S1':\n",
    "        n_f3_s1 += 1\n",
    "    elif sub_list[0] == 'F3' and sub_list[1] == 'S2':\n",
    "        n_f3_s2 += 1\n",
    "    elif sub_list[0] == 'F3' and sub_list[1] == 'S3':\n",
    "        n_f3_s3 += 1\n",
    "    elif sub_list[0] == 'F4' and sub_list[1] == 'S1':\n",
    "        n_f4_s1 += 1\n",
    "    elif sub_list[0] == 'F4' and sub_list[1] == 'S2':\n",
    "        n_f4_s2 += 1\n",
    "    elif sub_list[0] == 'F4' and sub_list[1] == 'S3':\n",
    "        n_f4_s3 += 1\n",
    "    elif sub_list[0] == 'F5' and sub_list[1] == 'S1':\n",
    "        n_f5_s1 += 1\n",
    "    elif sub_list[0] == 'F5' and sub_list[1] == 'S2':\n",
    "        n_f5_s2 += 1\n",
    "    elif sub_list[0] == 'F5' and sub_list[1] == 'S3':\n",
    "        n_f5_s3 += 1\n",
    "    \n",
    "    \n",
    "#w.r.t F1:\n",
    "cp_f1_s1 = n_f1_s1 / n_s1 ; cp_f1_s2 = n_f1_s2 / n_s2 ; cp_f1_s3 = n_f1_s3 / n_s3\n",
    "\n",
    "#w.r.t F2:\n",
    "cp_f2_s1 = n_f2_s1 / n_s1 ; cp_f2_s2 = n_f2_s2 / n_s2 ; cp_f2_s3 = n_f2_s3 / n_s3\n",
    "\n",
    "#w.r.t F3:\n",
    "cp_f3_s1 = n_f3_s1 / n_s1 ; cp_f3_s2 = n_f3_s2 / n_s2 ; cp_f3_s3 = n_f3_s3 / n_s3\n",
    "\n",
    "#w.r.t F4:\n",
    "cp_f4_s1 = n_f4_s1 / n_s1 ; cp_f4_s2 = n_f4_s2 / n_s2 ; cp_f4_s3 = n_f4_s3 / n_s3\n",
    "\n",
    "#w.r.t F5:\n",
    "cp_f5_s1 = n_f5_s1 / n_s1 ; cp_f5_s2 = n_f5_s2 / n_s2 ; cp_f5_s3 = n_f5_s3 / n_s3\n",
    "\n",
    "print(\"The Conditional Probabilities are as follows:\\n\")\n",
    "print(f\"a. P(F=F1|S==S1) = {cp_f1_s1}, P(F=F1|S==S2) = {cp_f1_s2}, P(F=F1|S==S3) = {cp_f1_s3}\\nb. P(F=F2|S==S1) = {cp_f2_s1}, P(F=F2|S==S2) = {cp_f2_s2}, P(F=F2|S==S3) = {cp_f2_s3}\\nc. P(F=F3|S==S1) = {cp_f3_s1}, P(F=F3|S==S2) = {cp_f3_s2}, P(F=F3|S==S3) = {cp_f3_s3}\\nd. P(F=F4|S==S1) = {cp_f4_s1}, P(F=F4|S==S2) = {cp_f4_s2}, P(F=F4|S==S3) = {cp_f4_s3}\\ne. P(F=F5|S==S1) = {cp_f5_s1}, P(F=F5|S==S2) = {cp_f5_s2}, P(F=F5|S==S3) = {cp_f5_s3}\")\n"
   ]
  },
  {
   "cell_type": "markdown",
   "id": "edc2a1af",
   "metadata": {},
   "source": [
    "###############################################################################################################################"
   ]
  },
  {
   "cell_type": "markdown",
   "id": "b8cbca50",
   "metadata": {},
   "source": [
    "<h3> Q9: Given two sentences S1, S2</h3>   \n",
    "\n",
    "You will be given two sentences S1, S2 your task is to find \n",
    "<pre>\n",
    "a. Number of common words between S1, S2\n",
    "b. Words in S1 but not in S2\n",
    "c. Words in S2 but not in S1\n",
    "</pre>\n",
    "\n",
    "Ex: \n",
    "<pre>\n",
    "S1= \"the first column F will contain only 5 uniques values\"\n",
    "S2= \"the second column S will contain only 3 uniques values\"\n",
    "Output:\n",
    "a. 7\n",
    "b. ['first','F','5']\n",
    "c. ['second','S','3']\n",
    "</pre>"
   ]
  },
  {
   "cell_type": "markdown",
   "id": "f5a11846",
   "metadata": {},
   "source": [
    "## Solution:"
   ]
  },
  {
   "cell_type": "code",
   "execution_count": 29,
   "id": "c0a9d37f",
   "metadata": {},
   "outputs": [
    {
     "name": "stdout",
     "output_type": "stream",
     "text": [
      "The number of common words between S1 and S2 are:  7\n",
      "The words which are in S1 but not in S2:  ['first', 'F', '5']\n",
      "The words which are in S2 but not in S1:  ['second', 'S', '3']\n"
     ]
    }
   ],
   "source": [
    "S1 = \"the first column F will contain only 5 uniques values\"\n",
    "S2 = \"the second column S will contain only 3 uniques values\"\n",
    "\n",
    "def string_features():\n",
    "    \n",
    "    list_S1 = S1.split()\n",
    "    list_S2 = S2.split()\n",
    "\n",
    "# a. Number of common words between S1, S2\n",
    "    \n",
    "    common_words = []\n",
    "\n",
    "    for element1 in list_S1:\n",
    "        for element2 in list_S2:\n",
    "            if element1 == element2:\n",
    "                common_words.append(element1)\n",
    "\n",
    "    number_of_words = len(common_words)\n",
    "\n",
    "    print(f'The number of common words between S1 and S2 are: ', number_of_words)\n",
    "\n",
    "# b. Words in S1 but not in S2   \n",
    "    \n",
    "    unique_ele_in_S1 = []\n",
    "\n",
    "    for element1 in list_S1:\n",
    "        if element1 in S1 and element1 not in S2:\n",
    "            unique_ele_in_S1.append(element1)\n",
    "\n",
    "    print(f'The words which are in S1 but not in S2: ', unique_ele_in_S1)\n",
    "\n",
    "# c. Words in S2 but not in S1\n",
    "\n",
    "    unique_ele_in_S2 = []\n",
    "\n",
    "    for element2 in list_S2:\n",
    "        if element2 in S2 and element2 not in S1:\n",
    "            unique_ele_in_S2.append(element2)\n",
    "\n",
    "    print(f'The words which are in S2 but not in S1: ', unique_ele_in_S2)\n",
    "    \n",
    "\n",
    "string_features()"
   ]
  },
  {
   "cell_type": "markdown",
   "id": "d36c8c6e",
   "metadata": {},
   "source": [
    "###############################################################################################################################"
   ]
  },
  {
   "cell_type": "markdown",
   "id": "f6a60ad4",
   "metadata": {},
   "source": [
    "<h3> Q10: Log Loss</h3>   \n",
    "\n",
    "You will be given a list of lists, each sublist will be of length 2 i.e. [[x,y],[p,q],[l,m]..[r,s]]\n",
    "consider its like a martrix of n rows and two columns\n",
    "\n",
    "a. the first column Y will contain interger values <br>\n",
    "b. the second column $Y_{score}$ will be having float values <br>\n",
    "Your task is to find the value of $f(Y,Y_{score}) = -1*\\frac{1}{n}\\Sigma_{for each Y,Y_{score} pair}(Ylog10(Y_{score})+(1-Y)log10(1-Y_{score}))$ here n is the number of rows in the matrix\n",
    "<pre>\n",
    "Ex:\n",
    "[[1, 0.4], [0, 0.5], [0, 0.9], [0, 0.3], [0, 0.6], [1, 0.1], [1, 0.9], [1, 0.8]]\n",
    "output:\n",
    "0.4243099\n",
    "</pre>\n",
    "$\\frac{-1}{8}\\cdot((1\\cdot log_{10}(0.4)+0\\cdot log_{10}(0.6))+(0\\cdot log_{10}(0.5)+1\\cdot log_{10}(0.5)) + ... + (1\\cdot log_{10}(0.8)+0\\cdot log_{10}(0.2)) )$"
   ]
  },
  {
   "cell_type": "markdown",
   "id": "0b192c9d",
   "metadata": {},
   "source": [
    "## Solution:"
   ]
  },
  {
   "cell_type": "code",
   "execution_count": 30,
   "id": "ac71370e",
   "metadata": {},
   "outputs": [
    {
     "name": "stdout",
     "output_type": "stream",
     "text": [
      "0.42430993457031635\n"
     ]
    }
   ],
   "source": [
    "import math\n",
    "\n",
    "def compute_log_loss(a):\n",
    "    \n",
    "    sum_list = []\n",
    "    \n",
    "    for X in a:\n",
    "        b = (X[0]*math.log10(X[1])) + ((1-X[0])*math.log10(1-X[1]))\n",
    "        sum_list.append(b)\n",
    "        \n",
    "    l_sum = 0\n",
    "    for value in sum_list:\n",
    "        l_sum = l_sum + value\n",
    "        \n",
    "    loss = (-1/8) * l_sum\n",
    "        \n",
    "    return loss\n",
    "    \n",
    "\n",
    "a = [[1, 0.4], [0, 0.5], [0, 0.9], [0, 0.3], [0, 0.6], [1, 0.1], [1, 0.9], [1, 0.8]]\n",
    "loss = compute_log_loss(a)\n",
    "print(loss)"
   ]
  },
  {
   "cell_type": "markdown",
   "id": "35e00832",
   "metadata": {},
   "source": [
    "###############################################################################################################################"
   ]
  },
  {
   "cell_type": "code",
   "execution_count": null,
   "id": "053a3f22",
   "metadata": {},
   "outputs": [],
   "source": []
  }
 ],
 "metadata": {
  "kernelspec": {
   "display_name": "Python 3",
   "language": "python",
   "name": "python3"
  },
  "language_info": {
   "codemirror_mode": {
    "name": "ipython",
    "version": 3
   },
   "file_extension": ".py",
   "mimetype": "text/x-python",
   "name": "python",
   "nbconvert_exporter": "python",
   "pygments_lexer": "ipython3",
   "version": "3.8.8"
  }
 },
 "nbformat": 4,
 "nbformat_minor": 5
}
